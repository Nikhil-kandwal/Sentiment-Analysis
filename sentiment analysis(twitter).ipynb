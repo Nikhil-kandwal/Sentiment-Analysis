{
 "cells": [
  {
   "cell_type": "code",
   "execution_count": 20,
   "id": "74fb1131-689d-46c9-b2d4-c25d72b4d873",
   "metadata": {},
   "outputs": [
    {
     "name": "stdout",
     "output_type": "stream",
     "text": [
      "Requirement already satisfied: kaggle in c:\\users\\nikhi\\appdata\\local\\programs\\python\\python312\\lib\\site-packages (1.6.12)\n",
      "Requirement already satisfied: six>=1.10 in c:\\users\\nikhi\\appdata\\local\\programs\\python\\python312\\lib\\site-packages (from kaggle) (1.16.0)\n",
      "Requirement already satisfied: certifi>=2023.7.22 in c:\\users\\nikhi\\appdata\\local\\programs\\python\\python312\\lib\\site-packages (from kaggle) (2024.2.2)\n",
      "Requirement already satisfied: python-dateutil in c:\\users\\nikhi\\appdata\\local\\programs\\python\\python312\\lib\\site-packages (from kaggle) (2.9.0.post0)\n",
      "Requirement already satisfied: requests in c:\\users\\nikhi\\appdata\\local\\programs\\python\\python312\\lib\\site-packages (from kaggle) (2.31.0)\n",
      "Requirement already satisfied: tqdm in c:\\users\\nikhi\\appdata\\local\\programs\\python\\python312\\lib\\site-packages (from kaggle) (4.66.4)\n",
      "Requirement already satisfied: python-slugify in c:\\users\\nikhi\\appdata\\local\\programs\\python\\python312\\lib\\site-packages (from kaggle) (8.0.4)\n",
      "Requirement already satisfied: urllib3 in c:\\users\\nikhi\\appdata\\local\\programs\\python\\python312\\lib\\site-packages (from kaggle) (2.2.1)\n",
      "Requirement already satisfied: bleach in c:\\users\\nikhi\\appdata\\local\\programs\\python\\python312\\lib\\site-packages (from kaggle) (6.1.0)\n",
      "Requirement already satisfied: webencodings in c:\\users\\nikhi\\appdata\\local\\programs\\python\\python312\\lib\\site-packages (from bleach->kaggle) (0.5.1)\n",
      "Requirement already satisfied: text-unidecode>=1.3 in c:\\users\\nikhi\\appdata\\local\\programs\\python\\python312\\lib\\site-packages (from python-slugify->kaggle) (1.3)\n",
      "Requirement already satisfied: charset-normalizer<4,>=2 in c:\\users\\nikhi\\appdata\\local\\programs\\python\\python312\\lib\\site-packages (from requests->kaggle) (3.3.2)\n",
      "Requirement already satisfied: idna<4,>=2.5 in c:\\users\\nikhi\\appdata\\local\\programs\\python\\python312\\lib\\site-packages (from requests->kaggle) (3.7)\n",
      "Requirement already satisfied: colorama in c:\\users\\nikhi\\appdata\\local\\programs\\python\\python312\\lib\\site-packages (from tqdm->kaggle) (0.4.6)\n"
     ]
    }
   ],
   "source": [
    "!pip install kaggle\n"
   ]
  },
  {
   "cell_type": "code",
   "execution_count": 21,
   "id": "94223819-cfc8-41e3-a567-1a0aa9f1909a",
   "metadata": {},
   "outputs": [
    {
     "name": "stdout",
     "output_type": "stream",
     "text": [
      "Requirement already satisfied: scikit-learn in c:\\users\\nikhi\\appdata\\local\\programs\\python\\python312\\lib\\site-packages (1.4.2)\n",
      "Requirement already satisfied: numpy>=1.19.5 in c:\\users\\nikhi\\appdata\\local\\programs\\python\\python312\\lib\\site-packages (from scikit-learn) (1.26.4)\n",
      "Requirement already satisfied: scipy>=1.6.0 in c:\\users\\nikhi\\appdata\\local\\programs\\python\\python312\\lib\\site-packages (from scikit-learn) (1.13.0)\n",
      "Requirement already satisfied: joblib>=1.2.0 in c:\\users\\nikhi\\appdata\\local\\programs\\python\\python312\\lib\\site-packages (from scikit-learn) (1.4.2)\n",
      "Requirement already satisfied: threadpoolctl>=2.0.0 in c:\\users\\nikhi\\appdata\\local\\programs\\python\\python312\\lib\\site-packages (from scikit-learn) (3.5.0)\n"
     ]
    }
   ],
   "source": [
    "!pip install scikit-learn"
   ]
  },
  {
   "cell_type": "markdown",
   "id": "81f391fe-d101-46af-a3a3-c762ced476cf",
   "metadata": {},
   "source": [
    "uploading kaggle file"
   ]
  },
  {
   "cell_type": "code",
   "execution_count": 1,
   "id": "277502cb-67e4-4679-a441-e69ce99bc225",
   "metadata": {},
   "outputs": [],
   "source": [
    "import os\n",
    "import shutil\n",
    "\n",
    "# Create the .kaggle directory if it does not exist\n",
    "kaggle_dir = os.path.join(os.path.expanduser('~'), '.kaggle')\n",
    "os.makedirs(kaggle_dir, exist_ok=True)\n",
    "\n",
    "# Copy the kaggle.json file to the .kaggle directory\n",
    "shutil.copy('kaggle.json', kaggle_dir)\n",
    "\n",
    "# Set the file permissions to read-only for the owner\n",
    "kaggle_json_path = os.path.join(kaggle_dir, 'kaggle.json')\n",
    "os.chmod(kaggle_json_path, 0o600)"
   ]
  },
  {
   "cell_type": "code",
   "execution_count": 4,
   "id": "cbf2c3bb-aa4e-4078-9679-f50d83a542e0",
   "metadata": {},
   "outputs": [
    {
     "name": "stdout",
     "output_type": "stream",
     "text": [
      "Dataset URL: https://www.kaggle.com/datasets/kazanova/sentiment140\n",
      "License(s): other\n",
      "sentiment140.zip: Skipping, found more recently modified local copy (use --force to force download)\n"
     ]
    }
   ],
   "source": [
    "#API to fetch the dataset from kaggle\n",
    "!kaggle datasets download -d kazanova/sentiment140"
   ]
  },
  {
   "cell_type": "code",
   "execution_count": 5,
   "id": "280f0be4-fb10-4980-b40f-682f225e8d9c",
   "metadata": {},
   "outputs": [
    {
     "name": "stdout",
     "output_type": "stream",
     "text": [
      "The dataset is extracted\n"
     ]
    }
   ],
   "source": [
    "# extracting the compressed datasets\n",
    "from zipfile import ZipFile\n",
    "dataset = r'C:\\Users\\nikhi\\all jupyter files\\sentiment140.zip'\n",
    "\n",
    "with ZipFile(dataset,'r') as zip:\n",
    "    zip.extractall()\n",
    "    print('The dataset is extracted')\n",
    "    "
   ]
  },
  {
   "cell_type": "code",
   "execution_count": 1,
   "id": "638e0ab7-09ee-4e4f-9a8d-872e82e864b7",
   "metadata": {},
   "outputs": [],
   "source": [
    "import numpy as np\n",
    "import pandas as pd\n",
    "import re\n",
    "from nltk.corpus import stopwords\n",
    "from nltk.stem.porter import PorterStemmer\n",
    "from nltk.tokenize import word_tokenize\n",
    "from sklearn.feature_extraction.text import TfidfVectorizer\n",
    "from sklearn.model_selection import train_test_split\n",
    "from sklearn.linear_model import LogisticRegression\n",
    "from sklearn.metrics import accuracy_score\n"
   ]
  },
  {
   "cell_type": "code",
   "execution_count": 13,
   "id": "6ebcab77-7ce5-441b-bccb-e7c0a963e45f",
   "metadata": {},
   "outputs": [
    {
     "name": "stdout",
     "output_type": "stream",
     "text": [
      "Collecting streamlit\n",
      "  Using cached streamlit-1.35.0-py2.py3-none-any.whl.metadata (8.5 kB)\n",
      "Collecting altair<6,>=4.0 (from streamlit)\n",
      "  Using cached altair-5.3.0-py3-none-any.whl.metadata (9.2 kB)\n",
      "Collecting blinker<2,>=1.0.0 (from streamlit)\n",
      "  Using cached blinker-1.8.2-py3-none-any.whl.metadata (1.6 kB)\n",
      "Collecting cachetools<6,>=4.0 (from streamlit)\n",
      "  Using cached cachetools-5.3.3-py3-none-any.whl.metadata (5.3 kB)\n",
      "Requirement already satisfied: click<9,>=7.0 in c:\\users\\nikhi\\appdata\\local\\programs\\python\\python312\\lib\\site-packages (from streamlit) (8.1.7)\n",
      "Requirement already satisfied: numpy<2,>=1.19.3 in c:\\users\\nikhi\\appdata\\local\\programs\\python\\python312\\lib\\site-packages (from streamlit) (1.26.4)\n",
      "Requirement already satisfied: packaging<25,>=16.8 in c:\\users\\nikhi\\appdata\\local\\programs\\python\\python312\\lib\\site-packages (from streamlit) (24.0)\n",
      "Requirement already satisfied: pandas<3,>=1.3.0 in c:\\users\\nikhi\\appdata\\local\\programs\\python\\python312\\lib\\site-packages (from streamlit) (2.2.2)\n",
      "Requirement already satisfied: pillow<11,>=7.1.0 in c:\\users\\nikhi\\appdata\\local\\programs\\python\\python312\\lib\\site-packages (from streamlit) (10.3.0)\n",
      "Collecting protobuf<5,>=3.20 (from streamlit)\n",
      "  Using cached protobuf-4.25.3-cp310-abi3-win_amd64.whl.metadata (541 bytes)\n",
      "Collecting pyarrow>=7.0 (from streamlit)\n",
      "  Using cached pyarrow-16.1.0-cp312-cp312-win_amd64.whl.metadata (3.1 kB)\n",
      "Requirement already satisfied: requests<3,>=2.27 in c:\\users\\nikhi\\appdata\\local\\programs\\python\\python312\\lib\\site-packages (from streamlit) (2.31.0)\n",
      "Collecting rich<14,>=10.14.0 (from streamlit)\n",
      "  Using cached rich-13.7.1-py3-none-any.whl.metadata (18 kB)\n",
      "Requirement already satisfied: tenacity<9,>=8.1.0 in c:\\users\\nikhi\\appdata\\local\\programs\\python\\python312\\lib\\site-packages (from streamlit) (8.3.0)\n",
      "Collecting toml<2,>=0.10.1 (from streamlit)\n",
      "  Using cached toml-0.10.2-py2.py3-none-any.whl.metadata (7.1 kB)\n",
      "Collecting typing-extensions<5,>=4.3.0 (from streamlit)\n",
      "  Using cached typing_extensions-4.12.1-py3-none-any.whl.metadata (3.0 kB)\n",
      "Collecting gitpython!=3.1.19,<4,>=3.0.7 (from streamlit)\n",
      "  Using cached GitPython-3.1.43-py3-none-any.whl.metadata (13 kB)\n",
      "Collecting pydeck<1,>=0.8.0b4 (from streamlit)\n",
      "  Using cached pydeck-0.9.1-py2.py3-none-any.whl.metadata (4.1 kB)\n",
      "Requirement already satisfied: tornado<7,>=6.0.3 in c:\\users\\nikhi\\appdata\\local\\programs\\python\\python312\\lib\\site-packages (from streamlit) (6.4)\n",
      "Collecting watchdog>=2.1.5 (from streamlit)\n",
      "  Using cached watchdog-4.0.1-py3-none-win_amd64.whl.metadata (37 kB)\n",
      "Requirement already satisfied: jinja2 in c:\\users\\nikhi\\appdata\\local\\programs\\python\\python312\\lib\\site-packages (from altair<6,>=4.0->streamlit) (3.1.4)\n",
      "Requirement already satisfied: jsonschema>=3.0 in c:\\users\\nikhi\\appdata\\local\\programs\\python\\python312\\lib\\site-packages (from altair<6,>=4.0->streamlit) (4.22.0)\n",
      "Collecting toolz (from altair<6,>=4.0->streamlit)\n",
      "  Using cached toolz-0.12.1-py3-none-any.whl.metadata (5.1 kB)\n",
      "Requirement already satisfied: colorama in c:\\users\\nikhi\\appdata\\local\\programs\\python\\python312\\lib\\site-packages (from click<9,>=7.0->streamlit) (0.4.6)\n",
      "Collecting gitdb<5,>=4.0.1 (from gitpython!=3.1.19,<4,>=3.0.7->streamlit)\n",
      "  Using cached gitdb-4.0.11-py3-none-any.whl.metadata (1.2 kB)\n",
      "Requirement already satisfied: python-dateutil>=2.8.2 in c:\\users\\nikhi\\appdata\\local\\programs\\python\\python312\\lib\\site-packages (from pandas<3,>=1.3.0->streamlit) (2.9.0.post0)\n",
      "Requirement already satisfied: pytz>=2020.1 in c:\\users\\nikhi\\appdata\\local\\programs\\python\\python312\\lib\\site-packages (from pandas<3,>=1.3.0->streamlit) (2024.1)\n",
      "Requirement already satisfied: tzdata>=2022.7 in c:\\users\\nikhi\\appdata\\local\\programs\\python\\python312\\lib\\site-packages (from pandas<3,>=1.3.0->streamlit) (2024.1)\n",
      "Requirement already satisfied: charset-normalizer<4,>=2 in c:\\users\\nikhi\\appdata\\local\\programs\\python\\python312\\lib\\site-packages (from requests<3,>=2.27->streamlit) (3.3.2)\n",
      "Requirement already satisfied: idna<4,>=2.5 in c:\\users\\nikhi\\appdata\\local\\programs\\python\\python312\\lib\\site-packages (from requests<3,>=2.27->streamlit) (3.7)\n",
      "Requirement already satisfied: urllib3<3,>=1.21.1 in c:\\users\\nikhi\\appdata\\local\\programs\\python\\python312\\lib\\site-packages (from requests<3,>=2.27->streamlit) (2.2.1)\n",
      "Requirement already satisfied: certifi>=2017.4.17 in c:\\users\\nikhi\\appdata\\local\\programs\\python\\python312\\lib\\site-packages (from requests<3,>=2.27->streamlit) (2024.2.2)\n",
      "Collecting markdown-it-py>=2.2.0 (from rich<14,>=10.14.0->streamlit)\n",
      "  Using cached markdown_it_py-3.0.0-py3-none-any.whl.metadata (6.9 kB)\n",
      "Requirement already satisfied: pygments<3.0.0,>=2.13.0 in c:\\users\\nikhi\\appdata\\local\\programs\\python\\python312\\lib\\site-packages (from rich<14,>=10.14.0->streamlit) (2.18.0)\n",
      "Collecting smmap<6,>=3.0.1 (from gitdb<5,>=4.0.1->gitpython!=3.1.19,<4,>=3.0.7->streamlit)\n",
      "  Using cached smmap-5.0.1-py3-none-any.whl.metadata (4.3 kB)\n",
      "Requirement already satisfied: MarkupSafe>=2.0 in c:\\users\\nikhi\\appdata\\local\\programs\\python\\python312\\lib\\site-packages (from jinja2->altair<6,>=4.0->streamlit) (2.1.5)\n",
      "Requirement already satisfied: attrs>=22.2.0 in c:\\users\\nikhi\\appdata\\local\\programs\\python\\python312\\lib\\site-packages (from jsonschema>=3.0->altair<6,>=4.0->streamlit) (23.2.0)\n",
      "Requirement already satisfied: jsonschema-specifications>=2023.03.6 in c:\\users\\nikhi\\appdata\\local\\programs\\python\\python312\\lib\\site-packages (from jsonschema>=3.0->altair<6,>=4.0->streamlit) (2023.12.1)\n",
      "Requirement already satisfied: referencing>=0.28.4 in c:\\users\\nikhi\\appdata\\local\\programs\\python\\python312\\lib\\site-packages (from jsonschema>=3.0->altair<6,>=4.0->streamlit) (0.35.1)\n",
      "Requirement already satisfied: rpds-py>=0.7.1 in c:\\users\\nikhi\\appdata\\local\\programs\\python\\python312\\lib\\site-packages (from jsonschema>=3.0->altair<6,>=4.0->streamlit) (0.18.1)\n",
      "Collecting mdurl~=0.1 (from markdown-it-py>=2.2.0->rich<14,>=10.14.0->streamlit)\n",
      "  Using cached mdurl-0.1.2-py3-none-any.whl.metadata (1.6 kB)\n",
      "Requirement already satisfied: six>=1.5 in c:\\users\\nikhi\\appdata\\local\\programs\\python\\python312\\lib\\site-packages (from python-dateutil>=2.8.2->pandas<3,>=1.3.0->streamlit) (1.16.0)\n",
      "Using cached streamlit-1.35.0-py2.py3-none-any.whl (8.6 MB)\n",
      "Using cached altair-5.3.0-py3-none-any.whl (857 kB)\n",
      "Using cached blinker-1.8.2-py3-none-any.whl (9.5 kB)\n",
      "Using cached cachetools-5.3.3-py3-none-any.whl (9.3 kB)\n",
      "Using cached GitPython-3.1.43-py3-none-any.whl (207 kB)\n",
      "Using cached protobuf-4.25.3-cp310-abi3-win_amd64.whl (413 kB)\n",
      "Downloading pyarrow-16.1.0-cp312-cp312-win_amd64.whl (25.8 MB)\n",
      "   ---------------------------------------- 0.0/25.8 MB ? eta -:--:--\n",
      "   ---------------------------------------- 0.0/25.8 MB ? eta -:--:--\n",
      "   ---------------------------------------- 0.0/25.8 MB 330.3 kB/s eta 0:01:19\n",
      "   ---------------------------------------- 0.0/25.8 MB 330.3 kB/s eta 0:01:19\n",
      "   ---------------------------------------- 0.1/25.8 MB 328.2 kB/s eta 0:01:19\n",
      "   ---------------------------------------- 0.1/25.8 MB 416.7 kB/s eta 0:01:02\n",
      "   ---------------------------------------- 0.1/25.8 MB 409.6 kB/s eta 0:01:03\n",
      "   ---------------------------------------- 0.2/25.8 MB 620.6 kB/s eta 0:00:42\n",
      "   ---------------------------------------- 0.3/25.8 MB 714.4 kB/s eta 0:00:36\n",
      "   ---------------------------------------- 0.3/25.8 MB 761.4 kB/s eta 0:00:34\n",
      "    --------------------------------------- 0.4/25.8 MB 825.0 kB/s eta 0:00:31\n",
      "    --------------------------------------- 0.4/25.8 MB 820.1 kB/s eta 0:00:32\n",
      "    --------------------------------------- 0.4/25.8 MB 820.1 kB/s eta 0:00:32\n",
      "    --------------------------------------- 0.6/25.8 MB 939.0 kB/s eta 0:00:27\n",
      "    --------------------------------------- 0.6/25.8 MB 975.2 kB/s eta 0:00:26\n",
      "   - -------------------------------------- 0.7/25.8 MB 999.0 kB/s eta 0:00:26\n",
      "   - -------------------------------------- 0.7/25.8 MB 983.8 kB/s eta 0:00:26\n",
      "   - -------------------------------------- 0.8/25.8 MB 990.5 kB/s eta 0:00:26\n",
      "   - -------------------------------------- 0.8/25.8 MB 996.3 kB/s eta 0:00:26\n",
      "   - -------------------------------------- 0.8/25.8 MB 989.4 kB/s eta 0:00:26\n",
      "   - -------------------------------------- 0.8/25.8 MB 989.4 kB/s eta 0:00:26\n",
      "   - -------------------------------------- 1.0/25.8 MB 1.0 MB/s eta 0:00:25\n",
      "   - -------------------------------------- 1.0/25.8 MB 1.0 MB/s eta 0:00:25\n",
      "   - -------------------------------------- 1.0/25.8 MB 987.8 kB/s eta 0:00:26\n",
      "   - -------------------------------------- 1.1/25.8 MB 973.5 kB/s eta 0:00:26\n",
      "   - -------------------------------------- 1.1/25.8 MB 979.1 kB/s eta 0:00:26\n",
      "   - -------------------------------------- 1.2/25.8 MB 966.2 kB/s eta 0:00:26\n",
      "   - -------------------------------------- 1.2/25.8 MB 970.4 kB/s eta 0:00:26\n",
      "   - -------------------------------------- 1.2/25.8 MB 970.4 kB/s eta 0:00:26\n",
      "   -- ------------------------------------- 1.3/25.8 MB 979.3 kB/s eta 0:00:26\n",
      "   -- ------------------------------------- 1.4/25.8 MB 983.0 kB/s eta 0:00:25\n",
      "   -- ------------------------------------- 1.4/25.8 MB 993.8 kB/s eta 0:00:25\n",
      "   -- ------------------------------------- 1.5/25.8 MB 996.8 kB/s eta 0:00:25\n",
      "   -- ------------------------------------- 1.5/25.8 MB 1.0 MB/s eta 0:00:25\n",
      "   -- ------------------------------------- 1.6/25.8 MB 1.0 MB/s eta 0:00:25\n",
      "   -- ------------------------------------- 1.6/25.8 MB 1.0 MB/s eta 0:00:24\n",
      "   -- ------------------------------------- 1.6/25.8 MB 1.0 MB/s eta 0:00:24\n",
      "   -- ------------------------------------- 1.7/25.8 MB 1.0 MB/s eta 0:00:25\n",
      "   -- ------------------------------------- 1.8/25.8 MB 1.0 MB/s eta 0:00:24\n",
      "   -- ------------------------------------- 1.9/25.8 MB 1.1 MB/s eta 0:00:23\n",
      "   --- ------------------------------------ 1.9/25.8 MB 1.1 MB/s eta 0:00:23\n",
      "   --- ------------------------------------ 2.0/25.8 MB 1.1 MB/s eta 0:00:23\n",
      "   --- ------------------------------------ 2.1/25.8 MB 1.1 MB/s eta 0:00:22\n",
      "   --- ------------------------------------ 2.1/25.8 MB 1.1 MB/s eta 0:00:22\n",
      "   --- ------------------------------------ 2.1/25.8 MB 1.1 MB/s eta 0:00:22\n",
      "   --- ------------------------------------ 2.2/25.8 MB 1.1 MB/s eta 0:00:22\n",
      "   --- ------------------------------------ 2.3/25.8 MB 1.1 MB/s eta 0:00:22\n",
      "   --- ------------------------------------ 2.4/25.8 MB 1.1 MB/s eta 0:00:22\n",
      "   --- ------------------------------------ 2.5/25.8 MB 1.1 MB/s eta 0:00:22\n",
      "   --- ------------------------------------ 2.5/25.8 MB 1.1 MB/s eta 0:00:22\n",
      "   ---- ----------------------------------- 2.6/25.8 MB 1.1 MB/s eta 0:00:21\n",
      "   ---- ----------------------------------- 2.7/25.8 MB 1.1 MB/s eta 0:00:21\n",
      "   ---- ----------------------------------- 2.7/25.8 MB 1.1 MB/s eta 0:00:21\n",
      "   ---- ----------------------------------- 2.7/25.8 MB 1.1 MB/s eta 0:00:22\n",
      "   ---- ----------------------------------- 2.8/25.8 MB 1.1 MB/s eta 0:00:21\n",
      "   ---- ----------------------------------- 2.9/25.8 MB 1.2 MB/s eta 0:00:20\n",
      "   ---- ----------------------------------- 3.0/25.8 MB 1.2 MB/s eta 0:00:20\n",
      "   ---- ----------------------------------- 3.1/25.8 MB 1.2 MB/s eta 0:00:20\n",
      "   ---- ----------------------------------- 3.1/25.8 MB 1.2 MB/s eta 0:00:20\n",
      "   ---- ----------------------------------- 3.2/25.8 MB 1.2 MB/s eta 0:00:20\n",
      "   ---- ----------------------------------- 3.2/25.8 MB 1.2 MB/s eta 0:00:20\n",
      "   ---- ----------------------------------- 3.2/25.8 MB 1.2 MB/s eta 0:00:20\n",
      "   ----- ---------------------------------- 3.3/25.8 MB 1.2 MB/s eta 0:00:20\n",
      "   ----- ---------------------------------- 3.4/25.8 MB 1.1 MB/s eta 0:00:20\n",
      "   ----- ---------------------------------- 3.4/25.8 MB 1.2 MB/s eta 0:00:20\n",
      "   ----- ---------------------------------- 3.5/25.8 MB 1.2 MB/s eta 0:00:20\n",
      "   ----- ---------------------------------- 3.6/25.8 MB 1.2 MB/s eta 0:00:20\n",
      "   ----- ---------------------------------- 3.6/25.8 MB 1.2 MB/s eta 0:00:19\n",
      "   ----- ---------------------------------- 3.7/25.8 MB 1.2 MB/s eta 0:00:19\n",
      "   ----- ---------------------------------- 3.7/25.8 MB 1.2 MB/s eta 0:00:19\n",
      "   ----- ---------------------------------- 3.9/25.8 MB 1.2 MB/s eta 0:00:19\n",
      "   ------ --------------------------------- 3.9/25.8 MB 1.2 MB/s eta 0:00:19\n",
      "   ------ --------------------------------- 3.9/25.8 MB 1.2 MB/s eta 0:00:19\n",
      "   ------ --------------------------------- 4.0/25.8 MB 1.2 MB/s eta 0:00:19\n",
      "   ------ --------------------------------- 4.0/25.8 MB 1.2 MB/s eta 0:00:19\n",
      "   ------ --------------------------------- 4.1/25.8 MB 1.2 MB/s eta 0:00:19\n",
      "   ------ --------------------------------- 4.1/25.8 MB 1.2 MB/s eta 0:00:19\n",
      "   ------ --------------------------------- 4.1/25.8 MB 1.2 MB/s eta 0:00:19\n",
      "   ------ --------------------------------- 4.2/25.8 MB 1.2 MB/s eta 0:00:19\n",
      "   ------ --------------------------------- 4.2/25.8 MB 1.2 MB/s eta 0:00:19\n",
      "   ------ --------------------------------- 4.2/25.8 MB 1.2 MB/s eta 0:00:19\n",
      "   ------ --------------------------------- 4.2/25.8 MB 1.2 MB/s eta 0:00:19\n",
      "   ------ --------------------------------- 4.3/25.8 MB 1.1 MB/s eta 0:00:20\n",
      "   ------ --------------------------------- 4.3/25.8 MB 1.1 MB/s eta 0:00:20\n",
      "   ------ --------------------------------- 4.3/25.8 MB 1.1 MB/s eta 0:00:20\n",
      "   ------ --------------------------------- 4.3/25.8 MB 1.1 MB/s eta 0:00:20\n",
      "   ------ --------------------------------- 4.4/25.8 MB 1.1 MB/s eta 0:00:20\n",
      "   ------ --------------------------------- 4.4/25.8 MB 1.1 MB/s eta 0:00:20\n",
      "   ------ --------------------------------- 4.4/25.8 MB 1.1 MB/s eta 0:00:20\n",
      "   ------ --------------------------------- 4.5/25.8 MB 1.1 MB/s eta 0:00:20\n",
      "   ------- -------------------------------- 4.5/25.8 MB 1.1 MB/s eta 0:00:20\n",
      "   ------- -------------------------------- 4.6/25.8 MB 1.1 MB/s eta 0:00:20\n",
      "   ------- -------------------------------- 4.6/25.8 MB 1.1 MB/s eta 0:00:20\n",
      "   ------- -------------------------------- 4.6/25.8 MB 1.1 MB/s eta 0:00:20\n",
      "   ------- -------------------------------- 4.8/25.8 MB 1.1 MB/s eta 0:00:20\n",
      "   ------- -------------------------------- 4.8/25.8 MB 1.1 MB/s eta 0:00:20\n",
      "   ------- -------------------------------- 4.9/25.8 MB 1.1 MB/s eta 0:00:19\n",
      "   ------- -------------------------------- 5.0/25.8 MB 1.1 MB/s eta 0:00:19\n",
      "   ------- -------------------------------- 5.1/25.8 MB 1.1 MB/s eta 0:00:19\n",
      "   ------- -------------------------------- 5.1/25.8 MB 1.1 MB/s eta 0:00:19\n",
      "   -------- ------------------------------- 5.2/25.8 MB 1.1 MB/s eta 0:00:19\n",
      "   -------- ------------------------------- 5.2/25.8 MB 1.1 MB/s eta 0:00:19\n",
      "   -------- ------------------------------- 5.3/25.8 MB 1.1 MB/s eta 0:00:19\n",
      "   -------- ------------------------------- 5.4/25.8 MB 1.1 MB/s eta 0:00:19\n",
      "   -------- ------------------------------- 5.5/25.8 MB 1.1 MB/s eta 0:00:19\n",
      "   -------- ------------------------------- 5.5/25.8 MB 1.1 MB/s eta 0:00:18\n",
      "   -------- ------------------------------- 5.6/25.8 MB 1.1 MB/s eta 0:00:18\n",
      "   -------- ------------------------------- 5.7/25.8 MB 1.1 MB/s eta 0:00:18\n",
      "   -------- ------------------------------- 5.7/25.8 MB 1.1 MB/s eta 0:00:18\n",
      "   -------- ------------------------------- 5.7/25.8 MB 1.1 MB/s eta 0:00:18\n",
      "   -------- ------------------------------- 5.7/25.8 MB 1.1 MB/s eta 0:00:18\n",
      "   --------- ------------------------------ 6.0/25.8 MB 1.2 MB/s eta 0:00:18\n",
      "   --------- ------------------------------ 6.1/25.8 MB 1.2 MB/s eta 0:00:18\n",
      "   --------- ------------------------------ 6.1/25.8 MB 1.2 MB/s eta 0:00:17\n",
      "   --------- ------------------------------ 6.2/25.8 MB 1.2 MB/s eta 0:00:17\n",
      "   --------- ------------------------------ 6.3/25.8 MB 1.2 MB/s eta 0:00:17\n",
      "   --------- ------------------------------ 6.4/25.8 MB 1.2 MB/s eta 0:00:17\n",
      "   --------- ------------------------------ 6.4/25.8 MB 1.2 MB/s eta 0:00:17\n",
      "   --------- ------------------------------ 6.4/25.8 MB 1.2 MB/s eta 0:00:17\n",
      "   ---------- ----------------------------- 6.6/25.8 MB 1.2 MB/s eta 0:00:17\n",
      "   ---------- ----------------------------- 6.6/25.8 MB 1.2 MB/s eta 0:00:17\n",
      "   ---------- ----------------------------- 6.7/25.8 MB 1.2 MB/s eta 0:00:17\n",
      "   ---------- ----------------------------- 6.7/25.8 MB 1.2 MB/s eta 0:00:17\n",
      "   ---------- ----------------------------- 6.8/25.8 MB 1.2 MB/s eta 0:00:17\n",
      "   ---------- ----------------------------- 6.9/25.8 MB 1.2 MB/s eta 0:00:16\n",
      "   ---------- ----------------------------- 6.9/25.8 MB 1.2 MB/s eta 0:00:16\n",
      "   ---------- ----------------------------- 6.9/25.8 MB 1.2 MB/s eta 0:00:16\n",
      "   ---------- ----------------------------- 7.1/25.8 MB 1.2 MB/s eta 0:00:16\n",
      "   ----------- ---------------------------- 7.1/25.8 MB 1.2 MB/s eta 0:00:16\n",
      "   ----------- ---------------------------- 7.2/25.8 MB 1.2 MB/s eta 0:00:16\n",
      "   ----------- ---------------------------- 7.2/25.8 MB 1.2 MB/s eta 0:00:16\n",
      "   ----------- ---------------------------- 7.3/25.8 MB 1.2 MB/s eta 0:00:16\n",
      "   ----------- ---------------------------- 7.4/25.8 MB 1.2 MB/s eta 0:00:16\n",
      "   ----------- ---------------------------- 7.4/25.8 MB 1.2 MB/s eta 0:00:16\n",
      "   ----------- ---------------------------- 7.4/25.8 MB 1.2 MB/s eta 0:00:16\n",
      "   ----------- ---------------------------- 7.7/25.8 MB 1.2 MB/s eta 0:00:15\n",
      "   ------------ --------------------------- 7.8/25.8 MB 1.2 MB/s eta 0:00:15\n",
      "   ------------ --------------------------- 7.8/25.8 MB 1.2 MB/s eta 0:00:15\n",
      "   ------------ --------------------------- 7.9/25.8 MB 1.2 MB/s eta 0:00:15\n",
      "   ------------ --------------------------- 8.0/25.8 MB 1.2 MB/s eta 0:00:15\n",
      "   ------------ --------------------------- 8.1/25.8 MB 1.2 MB/s eta 0:00:15\n",
      "   ------------ --------------------------- 8.1/25.8 MB 1.2 MB/s eta 0:00:15\n",
      "   ------------ --------------------------- 8.1/25.8 MB 1.2 MB/s eta 0:00:15\n",
      "   ------------ --------------------------- 8.3/25.8 MB 1.2 MB/s eta 0:00:15\n",
      "   ------------- -------------------------- 8.4/25.8 MB 1.3 MB/s eta 0:00:14\n",
      "   ------------- -------------------------- 8.5/25.8 MB 1.3 MB/s eta 0:00:14\n",
      "   ------------- -------------------------- 8.6/25.8 MB 1.3 MB/s eta 0:00:14\n",
      "   ------------- -------------------------- 8.7/25.8 MB 1.3 MB/s eta 0:00:14\n",
      "   ------------- -------------------------- 8.8/25.8 MB 1.3 MB/s eta 0:00:14\n",
      "   ------------- -------------------------- 8.8/25.8 MB 1.3 MB/s eta 0:00:14\n",
      "   ------------- -------------------------- 8.8/25.8 MB 1.3 MB/s eta 0:00:14\n",
      "   ------------- -------------------------- 9.0/25.8 MB 1.3 MB/s eta 0:00:14\n",
      "   -------------- ------------------------- 9.2/25.8 MB 1.3 MB/s eta 0:00:13\n",
      "   -------------- ------------------------- 9.2/25.8 MB 1.3 MB/s eta 0:00:13\n",
      "   -------------- ------------------------- 9.3/25.8 MB 1.3 MB/s eta 0:00:13\n",
      "   -------------- ------------------------- 9.4/25.8 MB 1.3 MB/s eta 0:00:13\n",
      "   -------------- ------------------------- 9.5/25.8 MB 1.3 MB/s eta 0:00:13\n",
      "   -------------- ------------------------- 9.6/25.8 MB 1.3 MB/s eta 0:00:13\n",
      "   -------------- ------------------------- 9.6/25.8 MB 1.3 MB/s eta 0:00:13\n",
      "   --------------- ------------------------ 9.7/25.8 MB 1.3 MB/s eta 0:00:13\n",
      "   --------------- ------------------------ 9.9/25.8 MB 1.3 MB/s eta 0:00:12\n",
      "   --------------- ------------------------ 10.0/25.8 MB 1.3 MB/s eta 0:00:12\n",
      "   --------------- ------------------------ 10.2/25.8 MB 1.3 MB/s eta 0:00:12\n",
      "   --------------- ------------------------ 10.2/25.8 MB 1.3 MB/s eta 0:00:12\n",
      "   ---------------- ----------------------- 10.4/25.8 MB 1.4 MB/s eta 0:00:12\n",
      "   ---------------- ----------------------- 10.4/25.8 MB 1.4 MB/s eta 0:00:12\n",
      "   ---------------- ----------------------- 10.4/25.8 MB 1.4 MB/s eta 0:00:12\n",
      "   ---------------- ----------------------- 10.5/25.8 MB 1.4 MB/s eta 0:00:12\n",
      "   ---------------- ----------------------- 10.7/25.8 MB 1.4 MB/s eta 0:00:11\n",
      "   ---------------- ----------------------- 10.8/25.8 MB 1.4 MB/s eta 0:00:11\n",
      "   ---------------- ----------------------- 10.9/25.8 MB 1.4 MB/s eta 0:00:11\n",
      "   ----------------- ---------------------- 11.0/25.8 MB 1.4 MB/s eta 0:00:11\n",
      "   ----------------- ---------------------- 11.1/25.8 MB 1.4 MB/s eta 0:00:11\n",
      "   ----------------- ---------------------- 11.2/25.8 MB 1.4 MB/s eta 0:00:11\n",
      "   ----------------- ---------------------- 11.2/25.8 MB 1.4 MB/s eta 0:00:11\n",
      "   ----------------- ---------------------- 11.2/25.8 MB 1.4 MB/s eta 0:00:11\n",
      "   ----------------- ---------------------- 11.5/25.8 MB 1.5 MB/s eta 0:00:10\n",
      "   ----------------- ---------------------- 11.6/25.8 MB 1.5 MB/s eta 0:00:10\n",
      "   ------------------ --------------------- 11.7/25.8 MB 1.5 MB/s eta 0:00:10\n",
      "   ------------------ --------------------- 11.8/25.8 MB 1.5 MB/s eta 0:00:10\n",
      "   ------------------ --------------------- 11.8/25.8 MB 1.5 MB/s eta 0:00:10\n",
      "   ------------------ --------------------- 11.9/25.8 MB 1.5 MB/s eta 0:00:10\n",
      "   ------------------ --------------------- 11.9/25.8 MB 1.5 MB/s eta 0:00:10\n",
      "   ------------------ --------------------- 11.9/25.8 MB 1.5 MB/s eta 0:00:10\n",
      "   ------------------ --------------------- 12.1/25.8 MB 1.5 MB/s eta 0:00:10\n",
      "   ------------------ --------------------- 12.1/25.8 MB 1.5 MB/s eta 0:00:10\n",
      "   ------------------ --------------------- 12.2/25.8 MB 1.5 MB/s eta 0:00:10\n",
      "   ------------------ --------------------- 12.2/25.8 MB 1.5 MB/s eta 0:00:10\n",
      "   ------------------- -------------------- 12.3/25.8 MB 1.5 MB/s eta 0:00:10\n",
      "   ------------------- -------------------- 12.4/25.8 MB 1.5 MB/s eta 0:00:10\n",
      "   ------------------- -------------------- 12.4/25.8 MB 1.5 MB/s eta 0:00:09\n",
      "   ------------------- -------------------- 12.4/25.8 MB 1.5 MB/s eta 0:00:09\n",
      "   ------------------- -------------------- 12.5/25.8 MB 1.5 MB/s eta 0:00:09\n",
      "   ------------------- -------------------- 12.6/25.8 MB 1.5 MB/s eta 0:00:09\n",
      "   ------------------- -------------------- 12.6/25.8 MB 1.5 MB/s eta 0:00:09\n",
      "   ------------------- -------------------- 12.7/25.8 MB 1.5 MB/s eta 0:00:09\n",
      "   ------------------- -------------------- 12.7/25.8 MB 1.5 MB/s eta 0:00:09\n",
      "   ------------------- -------------------- 12.8/25.8 MB 1.5 MB/s eta 0:00:09\n",
      "   ------------------- -------------------- 12.8/25.8 MB 1.5 MB/s eta 0:00:09\n",
      "   ------------------- -------------------- 12.8/25.8 MB 1.5 MB/s eta 0:00:09\n",
      "   -------------------- ------------------- 13.0/25.8 MB 1.5 MB/s eta 0:00:09\n",
      "   -------------------- ------------------- 13.0/25.8 MB 1.5 MB/s eta 0:00:09\n",
      "   -------------------- ------------------- 13.1/25.8 MB 1.5 MB/s eta 0:00:09\n",
      "   -------------------- ------------------- 13.1/25.8 MB 1.5 MB/s eta 0:00:09\n",
      "   -------------------- ------------------- 13.2/25.8 MB 1.5 MB/s eta 0:00:09\n",
      "   -------------------- ------------------- 13.3/25.8 MB 1.5 MB/s eta 0:00:09\n",
      "   -------------------- ------------------- 13.3/25.8 MB 1.5 MB/s eta 0:00:09\n",
      "   -------------------- ------------------- 13.3/25.8 MB 1.5 MB/s eta 0:00:09\n",
      "   -------------------- ------------------- 13.5/25.8 MB 1.5 MB/s eta 0:00:09\n",
      "   --------------------- ------------------ 13.6/25.8 MB 1.5 MB/s eta 0:00:09\n",
      "   --------------------- ------------------ 13.7/25.8 MB 1.5 MB/s eta 0:00:09\n",
      "   --------------------- ------------------ 13.7/25.8 MB 1.5 MB/s eta 0:00:09\n",
      "   --------------------- ------------------ 13.8/25.8 MB 1.5 MB/s eta 0:00:08\n",
      "   --------------------- ------------------ 13.9/25.8 MB 1.5 MB/s eta 0:00:08\n",
      "   --------------------- ------------------ 13.9/25.8 MB 1.5 MB/s eta 0:00:08\n",
      "   --------------------- ------------------ 13.9/25.8 MB 1.5 MB/s eta 0:00:08\n",
      "   --------------------- ------------------ 14.0/25.8 MB 1.5 MB/s eta 0:00:08\n",
      "   --------------------- ------------------ 14.2/25.8 MB 1.5 MB/s eta 0:00:08\n",
      "   ---------------------- ----------------- 14.3/25.8 MB 1.5 MB/s eta 0:00:08\n",
      "   ---------------------- ----------------- 14.3/25.8 MB 1.5 MB/s eta 0:00:08\n",
      "   ---------------------- ----------------- 14.4/25.8 MB 1.6 MB/s eta 0:00:08\n",
      "   ---------------------- ----------------- 14.5/25.8 MB 1.6 MB/s eta 0:00:08\n",
      "   ---------------------- ----------------- 14.6/25.8 MB 1.6 MB/s eta 0:00:07\n",
      "   ---------------------- ----------------- 14.6/25.8 MB 1.6 MB/s eta 0:00:07\n",
      "   ---------------------- ----------------- 14.7/25.8 MB 1.6 MB/s eta 0:00:07\n",
      "   ----------------------- ---------------- 14.9/25.8 MB 1.7 MB/s eta 0:00:07\n",
      "   ----------------------- ---------------- 15.0/25.8 MB 1.7 MB/s eta 0:00:07\n",
      "   ----------------------- ---------------- 15.1/25.8 MB 1.7 MB/s eta 0:00:07\n",
      "   ----------------------- ---------------- 15.1/25.8 MB 1.7 MB/s eta 0:00:07\n",
      "   ----------------------- ---------------- 15.2/25.8 MB 1.7 MB/s eta 0:00:07\n",
      "   ----------------------- ---------------- 15.2/25.8 MB 1.7 MB/s eta 0:00:07\n",
      "   ----------------------- ---------------- 15.2/25.8 MB 1.7 MB/s eta 0:00:07\n",
      "   ----------------------- ---------------- 15.3/25.8 MB 1.6 MB/s eta 0:00:07\n",
      "   ------------------------ --------------- 15.5/25.8 MB 1.7 MB/s eta 0:00:07\n",
      "   ------------------------ --------------- 15.6/25.8 MB 1.7 MB/s eta 0:00:07\n",
      "   ------------------------ --------------- 15.7/25.8 MB 1.7 MB/s eta 0:00:07\n",
      "   ------------------------ --------------- 15.8/25.8 MB 1.7 MB/s eta 0:00:06\n",
      "   ------------------------ --------------- 16.0/25.8 MB 1.7 MB/s eta 0:00:06\n",
      "   ------------------------ --------------- 16.1/25.8 MB 1.7 MB/s eta 0:00:06\n",
      "   ------------------------ --------------- 16.1/25.8 MB 1.7 MB/s eta 0:00:06\n",
      "   ------------------------ --------------- 16.1/25.8 MB 1.7 MB/s eta 0:00:06\n",
      "   ------------------------- -------------- 16.4/25.8 MB 1.7 MB/s eta 0:00:06\n",
      "   ------------------------- -------------- 16.6/25.8 MB 1.7 MB/s eta 0:00:06\n",
      "   ------------------------- -------------- 16.7/25.8 MB 1.8 MB/s eta 0:00:06\n",
      "   ------------------------- -------------- 16.8/25.8 MB 1.8 MB/s eta 0:00:06\n",
      "   -------------------------- ------------- 16.9/25.8 MB 1.8 MB/s eta 0:00:06\n",
      "   -------------------------- ------------- 17.0/25.8 MB 1.8 MB/s eta 0:00:06\n",
      "   -------------------------- ------------- 17.0/25.8 MB 1.8 MB/s eta 0:00:06\n",
      "   -------------------------- ------------- 17.0/25.8 MB 1.8 MB/s eta 0:00:06\n",
      "   -------------------------- ------------- 17.3/25.8 MB 1.8 MB/s eta 0:00:05\n",
      "   -------------------------- ------------- 17.4/25.8 MB 1.8 MB/s eta 0:00:05\n",
      "   -------------------------- ------------- 17.4/25.8 MB 1.8 MB/s eta 0:00:05\n",
      "   --------------------------- ------------ 17.5/25.8 MB 1.8 MB/s eta 0:00:05\n",
      "   --------------------------- ------------ 17.6/25.8 MB 1.8 MB/s eta 0:00:05\n",
      "   --------------------------- ------------ 17.6/25.8 MB 1.8 MB/s eta 0:00:05\n",
      "   --------------------------- ------------ 17.6/25.8 MB 1.8 MB/s eta 0:00:05\n",
      "   --------------------------- ------------ 17.6/25.8 MB 1.8 MB/s eta 0:00:05\n",
      "   --------------------------- ------------ 17.9/25.8 MB 1.8 MB/s eta 0:00:05\n",
      "   --------------------------- ------------ 18.0/25.8 MB 1.8 MB/s eta 0:00:05\n",
      "   --------------------------- ------------ 18.1/25.8 MB 1.8 MB/s eta 0:00:05\n",
      "   ---------------------------- ----------- 18.2/25.8 MB 1.8 MB/s eta 0:00:05\n",
      "   ---------------------------- ----------- 18.3/25.8 MB 1.8 MB/s eta 0:00:05\n",
      "   ---------------------------- ----------- 18.4/25.8 MB 1.8 MB/s eta 0:00:05\n",
      "   ---------------------------- ----------- 18.4/25.8 MB 1.8 MB/s eta 0:00:05\n",
      "   ---------------------------- ----------- 18.4/25.8 MB 1.8 MB/s eta 0:00:05\n",
      "   ---------------------------- ----------- 18.6/25.8 MB 1.8 MB/s eta 0:00:04\n",
      "   ---------------------------- ----------- 18.7/25.8 MB 1.8 MB/s eta 0:00:04\n",
      "   ----------------------------- ---------- 18.8/25.8 MB 1.8 MB/s eta 0:00:04\n",
      "   ----------------------------- ---------- 18.9/25.8 MB 1.8 MB/s eta 0:00:04\n",
      "   ----------------------------- ---------- 19.0/25.8 MB 1.8 MB/s eta 0:00:04\n",
      "   ----------------------------- ---------- 19.1/25.8 MB 1.8 MB/s eta 0:00:04\n",
      "   ----------------------------- ---------- 19.1/25.8 MB 1.8 MB/s eta 0:00:04\n",
      "   ----------------------------- ---------- 19.1/25.8 MB 1.8 MB/s eta 0:00:04\n",
      "   ----------------------------- ---------- 19.2/25.8 MB 1.8 MB/s eta 0:00:04\n",
      "   ----------------------------- ---------- 19.4/25.8 MB 1.8 MB/s eta 0:00:04\n",
      "   ------------------------------ --------- 19.5/25.8 MB 1.8 MB/s eta 0:00:04\n",
      "   ------------------------------ --------- 19.5/25.8 MB 1.8 MB/s eta 0:00:04\n",
      "   ------------------------------ --------- 19.6/25.8 MB 1.8 MB/s eta 0:00:04\n",
      "   ------------------------------ --------- 19.7/25.8 MB 1.8 MB/s eta 0:00:04\n",
      "   ------------------------------ --------- 19.8/25.8 MB 1.8 MB/s eta 0:00:04\n",
      "   ------------------------------ --------- 19.8/25.8 MB 1.8 MB/s eta 0:00:04\n",
      "   ------------------------------ --------- 19.8/25.8 MB 1.8 MB/s eta 0:00:04\n",
      "   ------------------------------- -------- 20.1/25.8 MB 1.8 MB/s eta 0:00:04\n",
      "   ------------------------------- -------- 20.1/25.8 MB 1.8 MB/s eta 0:00:04\n",
      "   ------------------------------- -------- 20.2/25.8 MB 1.8 MB/s eta 0:00:04\n",
      "   ------------------------------- -------- 20.2/25.8 MB 1.8 MB/s eta 0:00:04\n",
      "   ------------------------------- -------- 20.3/25.8 MB 1.8 MB/s eta 0:00:04\n",
      "   ------------------------------- -------- 20.3/25.8 MB 1.8 MB/s eta 0:00:04\n",
      "   ------------------------------- -------- 20.3/25.8 MB 1.8 MB/s eta 0:00:04\n",
      "   ------------------------------- -------- 20.4/25.8 MB 1.7 MB/s eta 0:00:04\n",
      "   ------------------------------- -------- 20.5/25.8 MB 1.7 MB/s eta 0:00:04\n",
      "   ------------------------------- -------- 20.6/25.8 MB 1.7 MB/s eta 0:00:04\n",
      "   ------------------------------- -------- 20.6/25.8 MB 1.7 MB/s eta 0:00:04\n",
      "   ------------------------------- -------- 20.7/25.8 MB 1.7 MB/s eta 0:00:04\n",
      "   -------------------------------- ------- 20.7/25.8 MB 1.7 MB/s eta 0:00:03\n",
      "   -------------------------------- ------- 20.8/25.8 MB 1.7 MB/s eta 0:00:03\n",
      "   -------------------------------- ------- 20.8/25.8 MB 1.7 MB/s eta 0:00:03\n",
      "   -------------------------------- ------- 20.8/25.8 MB 1.7 MB/s eta 0:00:03\n",
      "   -------------------------------- ------- 21.1/25.8 MB 1.7 MB/s eta 0:00:03\n",
      "   -------------------------------- ------- 21.2/25.8 MB 1.7 MB/s eta 0:00:03\n",
      "   -------------------------------- ------- 21.2/25.8 MB 1.7 MB/s eta 0:00:03\n",
      "   --------------------------------- ------ 21.3/25.8 MB 1.7 MB/s eta 0:00:03\n",
      "   --------------------------------- ------ 21.4/25.8 MB 1.7 MB/s eta 0:00:03\n",
      "   --------------------------------- ------ 21.5/25.8 MB 1.7 MB/s eta 0:00:03\n",
      "   --------------------------------- ------ 21.5/25.8 MB 1.7 MB/s eta 0:00:03\n",
      "   --------------------------------- ------ 21.5/25.8 MB 1.7 MB/s eta 0:00:03\n",
      "   --------------------------------- ------ 21.7/25.8 MB 1.7 MB/s eta 0:00:03\n",
      "   --------------------------------- ------ 21.9/25.8 MB 1.7 MB/s eta 0:00:03\n",
      "   --------------------------------- ------ 21.9/25.8 MB 1.7 MB/s eta 0:00:03\n",
      "   ---------------------------------- ----- 22.0/25.8 MB 1.7 MB/s eta 0:00:03\n",
      "   ---------------------------------- ----- 22.1/25.8 MB 1.7 MB/s eta 0:00:03\n",
      "   ---------------------------------- ----- 22.1/25.8 MB 1.7 MB/s eta 0:00:03\n",
      "   ---------------------------------- ----- 22.2/25.8 MB 1.7 MB/s eta 0:00:03\n",
      "   ---------------------------------- ----- 22.2/25.8 MB 1.7 MB/s eta 0:00:03\n",
      "   ---------------------------------- ----- 22.3/25.8 MB 1.7 MB/s eta 0:00:03\n",
      "   ---------------------------------- ----- 22.4/25.8 MB 1.7 MB/s eta 0:00:03\n",
      "   ---------------------------------- ----- 22.4/25.8 MB 1.7 MB/s eta 0:00:03\n",
      "   ---------------------------------- ----- 22.5/25.8 MB 1.7 MB/s eta 0:00:02\n",
      "   ---------------------------------- ----- 22.5/25.8 MB 1.7 MB/s eta 0:00:02\n",
      "   ---------------------------------- ----- 22.6/25.8 MB 1.7 MB/s eta 0:00:02\n",
      "   ----------------------------------- ---- 22.6/25.8 MB 1.7 MB/s eta 0:00:02\n",
      "   ----------------------------------- ---- 22.6/25.8 MB 1.7 MB/s eta 0:00:02\n",
      "   ----------------------------------- ---- 22.7/25.8 MB 1.7 MB/s eta 0:00:02\n",
      "   ----------------------------------- ---- 22.8/25.8 MB 1.7 MB/s eta 0:00:02\n",
      "   ----------------------------------- ---- 22.9/25.8 MB 1.7 MB/s eta 0:00:02\n",
      "   ----------------------------------- ---- 23.0/25.8 MB 1.7 MB/s eta 0:00:02\n",
      "   ----------------------------------- ---- 23.0/25.8 MB 1.7 MB/s eta 0:00:02\n",
      "   ----------------------------------- ---- 23.1/25.8 MB 1.7 MB/s eta 0:00:02\n",
      "   ----------------------------------- ---- 23.2/25.8 MB 1.7 MB/s eta 0:00:02\n",
      "   ----------------------------------- ---- 23.2/25.8 MB 1.7 MB/s eta 0:00:02\n",
      "   ------------------------------------ --- 23.3/25.8 MB 1.7 MB/s eta 0:00:02\n",
      "   ------------------------------------ --- 23.4/25.8 MB 1.7 MB/s eta 0:00:02\n",
      "   ------------------------------------ --- 23.5/25.8 MB 1.7 MB/s eta 0:00:02\n",
      "   ------------------------------------ --- 23.5/25.8 MB 1.7 MB/s eta 0:00:02\n",
      "   ------------------------------------ --- 23.6/25.8 MB 1.7 MB/s eta 0:00:02\n",
      "   ------------------------------------ --- 23.7/25.8 MB 1.7 MB/s eta 0:00:02\n",
      "   ------------------------------------ --- 23.7/25.8 MB 1.7 MB/s eta 0:00:02\n",
      "   ------------------------------------ --- 23.7/25.8 MB 1.7 MB/s eta 0:00:02\n",
      "   ------------------------------------ --- 23.8/25.8 MB 1.7 MB/s eta 0:00:02\n",
      "   ------------------------------------ --- 23.9/25.8 MB 1.7 MB/s eta 0:00:02\n",
      "   ------------------------------------- -- 24.0/25.8 MB 1.7 MB/s eta 0:00:02\n",
      "   ------------------------------------- -- 24.0/25.8 MB 1.7 MB/s eta 0:00:02\n",
      "   ------------------------------------- -- 24.1/25.8 MB 1.7 MB/s eta 0:00:02\n",
      "   ------------------------------------- -- 24.1/25.8 MB 1.7 MB/s eta 0:00:02\n",
      "   ------------------------------------- -- 24.2/25.8 MB 1.7 MB/s eta 0:00:01\n",
      "   ------------------------------------- -- 24.2/25.8 MB 1.7 MB/s eta 0:00:01\n",
      "   ------------------------------------- -- 24.2/25.8 MB 1.7 MB/s eta 0:00:01\n",
      "   ------------------------------------- -- 24.4/25.8 MB 1.7 MB/s eta 0:00:01\n",
      "   ------------------------------------- -- 24.4/25.8 MB 1.7 MB/s eta 0:00:01\n",
      "   ------------------------------------- -- 24.4/25.8 MB 1.7 MB/s eta 0:00:01\n",
      "   ------------------------------------- -- 24.5/25.8 MB 1.7 MB/s eta 0:00:01\n",
      "   ------------------------------------- -- 24.5/25.8 MB 1.7 MB/s eta 0:00:01\n",
      "   -------------------------------------- - 24.6/25.8 MB 1.7 MB/s eta 0:00:01\n",
      "   -------------------------------------- - 24.6/25.8 MB 1.7 MB/s eta 0:00:01\n",
      "   -------------------------------------- - 24.6/25.8 MB 1.7 MB/s eta 0:00:01\n",
      "   -------------------------------------- - 24.8/25.8 MB 1.6 MB/s eta 0:00:01\n",
      "   -------------------------------------- - 24.8/25.8 MB 1.6 MB/s eta 0:00:01\n",
      "   -------------------------------------- - 24.9/25.8 MB 1.6 MB/s eta 0:00:01\n",
      "   -------------------------------------- - 24.9/25.8 MB 1.6 MB/s eta 0:00:01\n",
      "   -------------------------------------- - 24.9/25.8 MB 1.6 MB/s eta 0:00:01\n",
      "   -------------------------------------- - 24.9/25.8 MB 1.6 MB/s eta 0:00:01\n",
      "   -------------------------------------- - 24.9/25.8 MB 1.6 MB/s eta 0:00:01\n",
      "   -------------------------------------- - 24.9/25.8 MB 1.6 MB/s eta 0:00:01\n",
      "   -------------------------------------- - 24.9/25.8 MB 1.6 MB/s eta 0:00:01\n",
      "   -------------------------------------- - 24.9/25.8 MB 1.6 MB/s eta 0:00:01\n",
      "   -------------------------------------- - 24.9/25.8 MB 1.6 MB/s eta 0:00:01\n",
      "   -------------------------------------- - 25.0/25.8 MB 1.5 MB/s eta 0:00:01\n",
      "   -------------------------------------- - 25.1/25.8 MB 1.5 MB/s eta 0:00:01\n",
      "   -------------------------------------- - 25.1/25.8 MB 1.5 MB/s eta 0:00:01\n",
      "   -------------------------------------- - 25.2/25.8 MB 1.5 MB/s eta 0:00:01\n",
      "   -------------------------------------- - 25.2/25.8 MB 1.5 MB/s eta 0:00:01\n",
      "   ---------------------------------------  25.3/25.8 MB 1.5 MB/s eta 0:00:01\n",
      "   ---------------------------------------  25.4/25.8 MB 1.5 MB/s eta 0:00:01\n",
      "   ---------------------------------------  25.5/25.8 MB 1.6 MB/s eta 0:00:01\n",
      "   ---------------------------------------  25.6/25.8 MB 1.6 MB/s eta 0:00:01\n",
      "   ---------------------------------------  25.7/25.8 MB 1.5 MB/s eta 0:00:01\n",
      "   ---------------------------------------  25.7/25.8 MB 1.5 MB/s eta 0:00:01\n",
      "   ---------------------------------------  25.8/25.8 MB 1.5 MB/s eta 0:00:01\n",
      "   ---------------------------------------  25.8/25.8 MB 1.5 MB/s eta 0:00:01\n",
      "   ---------------------------------------  25.8/25.8 MB 1.5 MB/s eta 0:00:01\n",
      "   ---------------------------------------- 25.8/25.8 MB 1.5 MB/s eta 0:00:00\n",
      "Downloading pydeck-0.9.1-py2.py3-none-any.whl (6.9 MB)\n",
      "   ---------------------------------------- 0.0/6.9 MB ? eta -:--:--\n",
      "   ---------------------------------------- 0.0/6.9 MB ? eta -:--:--\n",
      "    --------------------------------------- 0.1/6.9 MB 1.7 MB/s eta 0:00:04\n",
      "   - -------------------------------------- 0.2/6.9 MB 1.7 MB/s eta 0:00:04\n",
      "   - -------------------------------------- 0.2/6.9 MB 1.9 MB/s eta 0:00:04\n",
      "   - -------------------------------------- 0.2/6.9 MB 1.9 MB/s eta 0:00:04\n",
      "   - -------------------------------------- 0.3/6.9 MB 1.1 MB/s eta 0:00:06\n",
      "   -- ------------------------------------- 0.5/6.9 MB 1.6 MB/s eta 0:00:04\n",
      "   --- ------------------------------------ 0.6/6.9 MB 1.6 MB/s eta 0:00:04\n",
      "   --- ------------------------------------ 0.7/6.9 MB 1.6 MB/s eta 0:00:04\n",
      "   ---- ----------------------------------- 0.7/6.9 MB 1.7 MB/s eta 0:00:04\n",
      "   ---- ----------------------------------- 0.8/6.9 MB 1.6 MB/s eta 0:00:04\n",
      "   ---- ----------------------------------- 0.8/6.9 MB 1.6 MB/s eta 0:00:04\n",
      "   ---- ----------------------------------- 0.8/6.9 MB 1.6 MB/s eta 0:00:04\n",
      "   ----- ---------------------------------- 0.9/6.9 MB 1.4 MB/s eta 0:00:05\n",
      "   ------ --------------------------------- 1.1/6.9 MB 1.7 MB/s eta 0:00:04\n",
      "   ------ --------------------------------- 1.2/6.9 MB 1.6 MB/s eta 0:00:04\n",
      "   ------- -------------------------------- 1.3/6.9 MB 1.7 MB/s eta 0:00:04\n",
      "   ------- -------------------------------- 1.4/6.9 MB 1.6 MB/s eta 0:00:04\n",
      "   -------- ------------------------------- 1.4/6.9 MB 1.6 MB/s eta 0:00:04\n",
      "   -------- ------------------------------- 1.5/6.9 MB 1.7 MB/s eta 0:00:04\n",
      "   -------- ------------------------------- 1.5/6.9 MB 1.7 MB/s eta 0:00:04\n",
      "   -------- ------------------------------- 1.5/6.9 MB 1.7 MB/s eta 0:00:04\n",
      "   ---------- ----------------------------- 1.8/6.9 MB 1.7 MB/s eta 0:00:04\n",
      "   ---------- ----------------------------- 1.8/6.9 MB 1.7 MB/s eta 0:00:04\n",
      "   ----------- ---------------------------- 1.9/6.9 MB 1.7 MB/s eta 0:00:03\n",
      "   ----------- ---------------------------- 2.0/6.9 MB 1.7 MB/s eta 0:00:03\n",
      "   ------------ --------------------------- 2.1/6.9 MB 1.7 MB/s eta 0:00:03\n",
      "   ------------ --------------------------- 2.2/6.9 MB 1.7 MB/s eta 0:00:03\n",
      "   ------------ --------------------------- 2.2/6.9 MB 1.7 MB/s eta 0:00:03\n",
      "   ------------ --------------------------- 2.2/6.9 MB 1.7 MB/s eta 0:00:03\n",
      "   -------------- ------------------------- 2.4/6.9 MB 1.7 MB/s eta 0:00:03\n",
      "   -------------- ------------------------- 2.5/6.9 MB 1.7 MB/s eta 0:00:03\n",
      "   --------------- ------------------------ 2.7/6.9 MB 1.8 MB/s eta 0:00:03\n",
      "   ---------------- ----------------------- 2.8/6.9 MB 1.8 MB/s eta 0:00:03\n",
      "   ---------------- ----------------------- 2.9/6.9 MB 1.8 MB/s eta 0:00:03\n",
      "   ----------------- ---------------------- 3.0/6.9 MB 1.8 MB/s eta 0:00:03\n",
      "   ----------------- ---------------------- 3.0/6.9 MB 1.8 MB/s eta 0:00:03\n",
      "   ----------------- ---------------------- 3.0/6.9 MB 1.8 MB/s eta 0:00:03\n",
      "   ------------------ --------------------- 3.2/6.9 MB 1.8 MB/s eta 0:00:03\n",
      "   -------------------- ------------------- 3.5/6.9 MB 1.9 MB/s eta 0:00:02\n",
      "   -------------------- ------------------- 3.6/6.9 MB 1.9 MB/s eta 0:00:02\n",
      "   --------------------- ------------------ 3.6/6.9 MB 1.9 MB/s eta 0:00:02\n",
      "   --------------------- ------------------ 3.8/6.9 MB 1.9 MB/s eta 0:00:02\n",
      "   ---------------------- ----------------- 3.9/6.9 MB 1.9 MB/s eta 0:00:02\n",
      "   ---------------------- ----------------- 4.0/6.9 MB 1.9 MB/s eta 0:00:02\n",
      "   ---------------------- ----------------- 4.0/6.9 MB 1.9 MB/s eta 0:00:02\n",
      "   ------------------------ --------------- 4.2/6.9 MB 1.9 MB/s eta 0:00:02\n",
      "   ------------------------- -------------- 4.4/6.9 MB 2.0 MB/s eta 0:00:02\n",
      "   ------------------------- -------------- 4.5/6.9 MB 2.0 MB/s eta 0:00:02\n",
      "   -------------------------- ------------- 4.6/6.9 MB 2.0 MB/s eta 0:00:02\n",
      "   --------------------------- ------------ 4.8/6.9 MB 2.0 MB/s eta 0:00:02\n",
      "   ---------------------------- ----------- 4.9/6.9 MB 2.1 MB/s eta 0:00:01\n",
      "   ---------------------------- ----------- 5.0/6.9 MB 2.1 MB/s eta 0:00:01\n",
      "   ---------------------------- ----------- 5.0/6.9 MB 2.1 MB/s eta 0:00:01\n",
      "   ----------------------------- ---------- 5.1/6.9 MB 2.0 MB/s eta 0:00:01\n",
      "   ------------------------------- -------- 5.4/6.9 MB 2.1 MB/s eta 0:00:01\n",
      "   -------------------------------- ------- 5.6/6.9 MB 2.1 MB/s eta 0:00:01\n",
      "   --------------------------------- ------ 5.7/6.9 MB 2.1 MB/s eta 0:00:01\n",
      "   --------------------------------- ------ 5.8/6.9 MB 2.1 MB/s eta 0:00:01\n",
      "   ---------------------------------- ----- 5.9/6.9 MB 2.1 MB/s eta 0:00:01\n",
      "   ----------------------------------- ---- 6.1/6.9 MB 2.2 MB/s eta 0:00:01\n",
      "   ----------------------------------- ---- 6.1/6.9 MB 2.2 MB/s eta 0:00:01\n",
      "   ----------------------------------- ---- 6.1/6.9 MB 2.2 MB/s eta 0:00:01\n",
      "   ------------------------------------ --- 6.3/6.9 MB 2.1 MB/s eta 0:00:01\n",
      "   ------------------------------------ --- 6.3/6.9 MB 2.1 MB/s eta 0:00:01\n",
      "   ------------------------------------ --- 6.3/6.9 MB 2.1 MB/s eta 0:00:01\n",
      "   -------------------------------------- - 6.6/6.9 MB 2.1 MB/s eta 0:00:01\n",
      "   -------------------------------------- - 6.7/6.9 MB 2.1 MB/s eta 0:00:01\n",
      "   -------------------------------------- - 6.7/6.9 MB 2.1 MB/s eta 0:00:01\n",
      "   -------------------------------------- - 6.7/6.9 MB 2.1 MB/s eta 0:00:01\n",
      "   -------------------------------------- - 6.7/6.9 MB 2.1 MB/s eta 0:00:01\n",
      "   ---------------------------------------- 6.9/6.9 MB 2.1 MB/s eta 0:00:00\n",
      "Downloading rich-13.7.1-py3-none-any.whl (240 kB)\n",
      "   ---------------------------------------- 0.0/240.7 kB ? eta -:--:--\n",
      "   - -------------------------------------- 10.2/240.7 kB ? eta -:--:--\n",
      "   ------------- -------------------------- 81.9/240.7 kB 1.1 MB/s eta 0:00:01\n",
      "   ----------------------- ---------------- 143.4/240.7 kB 1.2 MB/s eta 0:00:01\n",
      "   ---------------------------------------- 240.7/240.7 kB 1.5 MB/s eta 0:00:00\n",
      "Downloading toml-0.10.2-py2.py3-none-any.whl (16 kB)\n",
      "Downloading typing_extensions-4.12.1-py3-none-any.whl (37 kB)\n",
      "Downloading watchdog-4.0.1-py3-none-win_amd64.whl (83 kB)\n",
      "   ---------------------------------------- 0.0/83.0 kB ? eta -:--:--\n",
      "   ---------------------------------------- 83.0/83.0 kB 2.3 MB/s eta 0:00:00\n",
      "Downloading gitdb-4.0.11-py3-none-any.whl (62 kB)\n",
      "   ---------------------------------------- 0.0/62.7 kB ? eta -:--:--\n",
      "   ---------------------------------------- 62.7/62.7 kB ? eta 0:00:00\n",
      "Downloading markdown_it_py-3.0.0-py3-none-any.whl (87 kB)\n",
      "   ---------------------------------------- 0.0/87.5 kB ? eta -:--:--\n",
      "   -------------- ------------------------- 30.7/87.5 kB 1.3 MB/s eta 0:00:01\n",
      "   ---------------------------------------- 87.5/87.5 kB 1.6 MB/s eta 0:00:00\n",
      "Downloading toolz-0.12.1-py3-none-any.whl (56 kB)\n",
      "   ---------------------------------------- 0.0/56.1 kB ? eta -:--:--\n",
      "   ---------------------------------------- 56.1/56.1 kB 3.1 MB/s eta 0:00:00\n",
      "Downloading mdurl-0.1.2-py3-none-any.whl (10.0 kB)\n",
      "Downloading smmap-5.0.1-py3-none-any.whl (24 kB)\n",
      "Installing collected packages: watchdog, typing-extensions, toolz, toml, smmap, pyarrow, protobuf, mdurl, cachetools, blinker, pydeck, markdown-it-py, gitdb, rich, gitpython, altair, streamlit\n",
      "Successfully installed altair-5.3.0 blinker-1.8.2 cachetools-5.3.3 gitdb-4.0.11 gitpython-3.1.43 markdown-it-py-3.0.0 mdurl-0.1.2 protobuf-4.25.3 pyarrow-16.1.0 pydeck-0.9.1 rich-13.7.1 smmap-5.0.1 streamlit-1.35.0 toml-0.10.2 toolz-0.12.1 typing-extensions-4.12.1 watchdog-4.0.1\n",
      "Note: you may need to restart the kernel to use updated packages.\n"
     ]
    }
   ],
   "source": [
    "pip install streamlit"
   ]
  },
  {
   "cell_type": "code",
   "execution_count": 2,
   "id": "db564b34-6f90-4d33-9e52-4a11e8d70860",
   "metadata": {},
   "outputs": [
    {
     "name": "stderr",
     "output_type": "stream",
     "text": [
      "[nltk_data] Downloading package stopwords to\n",
      "[nltk_data]     C:\\Users\\nikhi\\AppData\\Roaming\\nltk_data...\n",
      "[nltk_data]   Package stopwords is already up-to-date!\n"
     ]
    },
    {
     "data": {
      "text/plain": [
       "True"
      ]
     },
     "execution_count": 2,
     "metadata": {},
     "output_type": "execute_result"
    }
   ],
   "source": [
    "import nltk\n",
    "nltk.download('stopwords')"
   ]
  },
  {
   "cell_type": "code",
   "execution_count": 3,
   "id": "81ae8a34-d82b-4029-95ae-a841b1c968f5",
   "metadata": {},
   "outputs": [
    {
     "name": "stderr",
     "output_type": "stream",
     "text": [
      "[nltk_data] Downloading package punkt to\n",
      "[nltk_data]     C:\\Users\\nikhi\\AppData\\Roaming\\nltk_data...\n",
      "[nltk_data]   Package punkt is already up-to-date!\n"
     ]
    },
    {
     "data": {
      "text/plain": [
       "True"
      ]
     },
     "execution_count": 3,
     "metadata": {},
     "output_type": "execute_result"
    }
   ],
   "source": [
    "nltk.download('punkt')"
   ]
  },
  {
   "cell_type": "code",
   "execution_count": 2,
   "id": "ae808e29-305b-4bb4-b504-3d3849ff879b",
   "metadata": {},
   "outputs": [
    {
     "data": {
      "text/plain": [
       "['i',\n",
       " 'me',\n",
       " 'my',\n",
       " 'myself',\n",
       " 'we',\n",
       " 'our',\n",
       " 'ours',\n",
       " 'ourselves',\n",
       " 'you',\n",
       " \"you're\",\n",
       " \"you've\",\n",
       " \"you'll\",\n",
       " \"you'd\",\n",
       " 'your',\n",
       " 'yours',\n",
       " 'yourself',\n",
       " 'yourselves',\n",
       " 'he',\n",
       " 'him',\n",
       " 'his',\n",
       " 'himself',\n",
       " 'she',\n",
       " \"she's\",\n",
       " 'her',\n",
       " 'hers',\n",
       " 'herself',\n",
       " 'it',\n",
       " \"it's\",\n",
       " 'its',\n",
       " 'itself',\n",
       " 'they',\n",
       " 'them',\n",
       " 'their',\n",
       " 'theirs',\n",
       " 'themselves',\n",
       " 'what',\n",
       " 'which',\n",
       " 'who',\n",
       " 'whom',\n",
       " 'this',\n",
       " 'that',\n",
       " \"that'll\",\n",
       " 'these',\n",
       " 'those',\n",
       " 'am',\n",
       " 'is',\n",
       " 'are',\n",
       " 'was',\n",
       " 'were',\n",
       " 'be',\n",
       " 'been',\n",
       " 'being',\n",
       " 'have',\n",
       " 'has',\n",
       " 'had',\n",
       " 'having',\n",
       " 'do',\n",
       " 'does',\n",
       " 'did',\n",
       " 'doing',\n",
       " 'a',\n",
       " 'an',\n",
       " 'the',\n",
       " 'and',\n",
       " 'but',\n",
       " 'if',\n",
       " 'or',\n",
       " 'because',\n",
       " 'as',\n",
       " 'until',\n",
       " 'while',\n",
       " 'of',\n",
       " 'at',\n",
       " 'by',\n",
       " 'for',\n",
       " 'with',\n",
       " 'about',\n",
       " 'against',\n",
       " 'between',\n",
       " 'into',\n",
       " 'through',\n",
       " 'during',\n",
       " 'before',\n",
       " 'after',\n",
       " 'above',\n",
       " 'below',\n",
       " 'to',\n",
       " 'from',\n",
       " 'up',\n",
       " 'down',\n",
       " 'in',\n",
       " 'out',\n",
       " 'on',\n",
       " 'off',\n",
       " 'over',\n",
       " 'under',\n",
       " 'again',\n",
       " 'further',\n",
       " 'then',\n",
       " 'once',\n",
       " 'here',\n",
       " 'there',\n",
       " 'when',\n",
       " 'where',\n",
       " 'why',\n",
       " 'how',\n",
       " 'all',\n",
       " 'any',\n",
       " 'both',\n",
       " 'each',\n",
       " 'few',\n",
       " 'more',\n",
       " 'most',\n",
       " 'other',\n",
       " 'some',\n",
       " 'such',\n",
       " 'no',\n",
       " 'nor',\n",
       " 'not',\n",
       " 'only',\n",
       " 'own',\n",
       " 'same',\n",
       " 'so',\n",
       " 'than',\n",
       " 'too',\n",
       " 'very',\n",
       " 's',\n",
       " 't',\n",
       " 'can',\n",
       " 'will',\n",
       " 'just',\n",
       " 'don',\n",
       " \"don't\",\n",
       " 'should',\n",
       " \"should've\",\n",
       " 'now',\n",
       " 'd',\n",
       " 'll',\n",
       " 'm',\n",
       " 'o',\n",
       " 're',\n",
       " 've',\n",
       " 'y',\n",
       " 'ain',\n",
       " 'aren',\n",
       " \"aren't\",\n",
       " 'couldn',\n",
       " \"couldn't\",\n",
       " 'didn',\n",
       " \"didn't\",\n",
       " 'doesn',\n",
       " \"doesn't\",\n",
       " 'hadn',\n",
       " \"hadn't\",\n",
       " 'hasn',\n",
       " \"hasn't\",\n",
       " 'haven',\n",
       " \"haven't\",\n",
       " 'isn',\n",
       " \"isn't\",\n",
       " 'ma',\n",
       " 'mightn',\n",
       " \"mightn't\",\n",
       " 'mustn',\n",
       " \"mustn't\",\n",
       " 'needn',\n",
       " \"needn't\",\n",
       " 'shan',\n",
       " \"shan't\",\n",
       " 'shouldn',\n",
       " \"shouldn't\",\n",
       " 'wasn',\n",
       " \"wasn't\",\n",
       " 'weren',\n",
       " \"weren't\",\n",
       " 'won',\n",
       " \"won't\",\n",
       " 'wouldn',\n",
       " \"wouldn't\"]"
      ]
     },
     "execution_count": 2,
     "metadata": {},
     "output_type": "execute_result"
    }
   ],
   "source": [
    "#priting stopwords in english\n",
    "stop_words=stopwords.words('english')\n",
    "stop_words"
   ]
  },
  {
   "cell_type": "markdown",
   "id": "b60a8e7c-420c-44a2-a773-6f9c6c89e472",
   "metadata": {},
   "source": [
    "Data processing"
   ]
  },
  {
   "cell_type": "code",
   "execution_count": 19,
   "id": "b63fef47-263b-49a4-8398-c76fd13a2490",
   "metadata": {},
   "outputs": [],
   "source": [
    "#loading the data from csv file to pandas dataframe\n",
    "X=pd.read_csv(r'C:\\Users\\nikhi\\all jupyter files/training.1600000.processed.noemoticon.csv',encoding = 'ISO-8859-1')\n"
   ]
  },
  {
   "cell_type": "code",
   "execution_count": 20,
   "id": "76a2a0d1-3049-4651-a768-cfb278098c59",
   "metadata": {},
   "outputs": [
    {
     "data": {
      "text/html": [
       "<div>\n",
       "<style scoped>\n",
       "    .dataframe tbody tr th:only-of-type {\n",
       "        vertical-align: middle;\n",
       "    }\n",
       "\n",
       "    .dataframe tbody tr th {\n",
       "        vertical-align: top;\n",
       "    }\n",
       "\n",
       "    .dataframe thead th {\n",
       "        text-align: right;\n",
       "    }\n",
       "</style>\n",
       "<table border=\"1\" class=\"dataframe\">\n",
       "  <thead>\n",
       "    <tr style=\"text-align: right;\">\n",
       "      <th></th>\n",
       "      <th>0</th>\n",
       "      <th>1467810369</th>\n",
       "      <th>Mon Apr 06 22:19:45 PDT 2009</th>\n",
       "      <th>NO_QUERY</th>\n",
       "      <th>_TheSpecialOne_</th>\n",
       "      <th>@switchfoot http://twitpic.com/2y1zl - Awww, that's a bummer.  You shoulda got David Carr of Third Day to do it. ;D</th>\n",
       "    </tr>\n",
       "  </thead>\n",
       "  <tbody>\n",
       "    <tr>\n",
       "      <th>1599995</th>\n",
       "      <td>4</td>\n",
       "      <td>2193601969</td>\n",
       "      <td>Tue Jun 16 08:40:49 PDT 2009</td>\n",
       "      <td>NO_QUERY</td>\n",
       "      <td>TheWDBoards</td>\n",
       "      <td>TheWDB.com - Very cool to hear old Walt interv...</td>\n",
       "    </tr>\n",
       "    <tr>\n",
       "      <th>1599996</th>\n",
       "      <td>4</td>\n",
       "      <td>2193601991</td>\n",
       "      <td>Tue Jun 16 08:40:49 PDT 2009</td>\n",
       "      <td>NO_QUERY</td>\n",
       "      <td>bpbabe</td>\n",
       "      <td>Are you ready for your MoJo Makeover? Ask me f...</td>\n",
       "    </tr>\n",
       "    <tr>\n",
       "      <th>1599997</th>\n",
       "      <td>4</td>\n",
       "      <td>2193602064</td>\n",
       "      <td>Tue Jun 16 08:40:49 PDT 2009</td>\n",
       "      <td>NO_QUERY</td>\n",
       "      <td>tinydiamondz</td>\n",
       "      <td>Happy 38th Birthday to my boo of alll time!!! ...</td>\n",
       "    </tr>\n",
       "    <tr>\n",
       "      <th>1599998</th>\n",
       "      <td>4</td>\n",
       "      <td>2193602129</td>\n",
       "      <td>Tue Jun 16 08:40:50 PDT 2009</td>\n",
       "      <td>NO_QUERY</td>\n",
       "      <td>RyanTrevMorris</td>\n",
       "      <td>happy #charitytuesday @theNSPCC @SparksCharity...</td>\n",
       "    </tr>\n",
       "  </tbody>\n",
       "</table>\n",
       "</div>"
      ],
      "text/plain": [
       "         0  1467810369  Mon Apr 06 22:19:45 PDT 2009  NO_QUERY  \\\n",
       "1599995  4  2193601969  Tue Jun 16 08:40:49 PDT 2009  NO_QUERY   \n",
       "1599996  4  2193601991  Tue Jun 16 08:40:49 PDT 2009  NO_QUERY   \n",
       "1599997  4  2193602064  Tue Jun 16 08:40:49 PDT 2009  NO_QUERY   \n",
       "1599998  4  2193602129  Tue Jun 16 08:40:50 PDT 2009  NO_QUERY   \n",
       "\n",
       "        _TheSpecialOne_  \\\n",
       "1599995     TheWDBoards   \n",
       "1599996          bpbabe   \n",
       "1599997    tinydiamondz   \n",
       "1599998  RyanTrevMorris   \n",
       "\n",
       "        @switchfoot http://twitpic.com/2y1zl - Awww, that's a bummer.  You shoulda got David Carr of Third Day to do it. ;D  \n",
       "1599995  TheWDB.com - Very cool to hear old Walt interv...                                                                   \n",
       "1599996  Are you ready for your MoJo Makeover? Ask me f...                                                                   \n",
       "1599997  Happy 38th Birthday to my boo of alll time!!! ...                                                                   \n",
       "1599998  happy #charitytuesday @theNSPCC @SparksCharity...                                                                   "
      ]
     },
     "execution_count": 20,
     "metadata": {},
     "output_type": "execute_result"
    }
   ],
   "source": [
    "\n",
    "X.tail(4)"
   ]
  },
  {
   "cell_type": "code",
   "execution_count": 21,
   "id": "c0f74064-6406-48af-9a39-2441b411048a",
   "metadata": {},
   "outputs": [
    {
     "data": {
      "text/plain": [
       "0                                                                                                                      0\n",
       "1467810369                                                                                                             0\n",
       "Mon Apr 06 22:19:45 PDT 2009                                                                                           0\n",
       "NO_QUERY                                                                                                               0\n",
       "_TheSpecialOne_                                                                                                        0\n",
       "@switchfoot http://twitpic.com/2y1zl - Awww, that's a bummer.  You shoulda got David Carr of Third Day to do it. ;D    0\n",
       "dtype: int64"
      ]
     },
     "execution_count": 21,
     "metadata": {},
     "output_type": "execute_result"
    }
   ],
   "source": [
    "X.isnull().sum()"
   ]
  },
  {
   "cell_type": "code",
   "execution_count": 22,
   "id": "0c3c6cfa-dee2-48f8-88a7-05d404d1d7b1",
   "metadata": {},
   "outputs": [],
   "source": [
    "#naming the columns\n",
    "column_names =['target','id','date','flag','user','text']\n",
    "X=pd.read_csv(r'C:\\Users\\nikhi\\all jupyter files/training.1600000.processed.noemoticon.csv',names = column_names,encoding = 'ISO-8859-1')\n"
   ]
  },
  {
   "cell_type": "code",
   "execution_count": 23,
   "id": "7e8465b6-bbb0-4df8-a0f5-8b471dd73d02",
   "metadata": {},
   "outputs": [
    {
     "data": {
      "text/html": [
       "<div>\n",
       "<style scoped>\n",
       "    .dataframe tbody tr th:only-of-type {\n",
       "        vertical-align: middle;\n",
       "    }\n",
       "\n",
       "    .dataframe tbody tr th {\n",
       "        vertical-align: top;\n",
       "    }\n",
       "\n",
       "    .dataframe thead th {\n",
       "        text-align: right;\n",
       "    }\n",
       "</style>\n",
       "<table border=\"1\" class=\"dataframe\">\n",
       "  <thead>\n",
       "    <tr style=\"text-align: right;\">\n",
       "      <th></th>\n",
       "      <th>target</th>\n",
       "      <th>id</th>\n",
       "      <th>date</th>\n",
       "      <th>flag</th>\n",
       "      <th>user</th>\n",
       "      <th>text</th>\n",
       "    </tr>\n",
       "  </thead>\n",
       "  <tbody>\n",
       "    <tr>\n",
       "      <th>0</th>\n",
       "      <td>0</td>\n",
       "      <td>1467810369</td>\n",
       "      <td>Mon Apr 06 22:19:45 PDT 2009</td>\n",
       "      <td>NO_QUERY</td>\n",
       "      <td>_TheSpecialOne_</td>\n",
       "      <td>@switchfoot http://twitpic.com/2y1zl - Awww, t...</td>\n",
       "    </tr>\n",
       "    <tr>\n",
       "      <th>1</th>\n",
       "      <td>0</td>\n",
       "      <td>1467810672</td>\n",
       "      <td>Mon Apr 06 22:19:49 PDT 2009</td>\n",
       "      <td>NO_QUERY</td>\n",
       "      <td>scotthamilton</td>\n",
       "      <td>is upset that he can't update his Facebook by ...</td>\n",
       "    </tr>\n",
       "    <tr>\n",
       "      <th>2</th>\n",
       "      <td>0</td>\n",
       "      <td>1467810917</td>\n",
       "      <td>Mon Apr 06 22:19:53 PDT 2009</td>\n",
       "      <td>NO_QUERY</td>\n",
       "      <td>mattycus</td>\n",
       "      <td>@Kenichan I dived many times for the ball. Man...</td>\n",
       "    </tr>\n",
       "    <tr>\n",
       "      <th>3</th>\n",
       "      <td>0</td>\n",
       "      <td>1467811184</td>\n",
       "      <td>Mon Apr 06 22:19:57 PDT 2009</td>\n",
       "      <td>NO_QUERY</td>\n",
       "      <td>ElleCTF</td>\n",
       "      <td>my whole body feels itchy and like its on fire</td>\n",
       "    </tr>\n",
       "    <tr>\n",
       "      <th>4</th>\n",
       "      <td>0</td>\n",
       "      <td>1467811193</td>\n",
       "      <td>Mon Apr 06 22:19:57 PDT 2009</td>\n",
       "      <td>NO_QUERY</td>\n",
       "      <td>Karoli</td>\n",
       "      <td>@nationwideclass no, it's not behaving at all....</td>\n",
       "    </tr>\n",
       "  </tbody>\n",
       "</table>\n",
       "</div>"
      ],
      "text/plain": [
       "   target          id                          date      flag  \\\n",
       "0       0  1467810369  Mon Apr 06 22:19:45 PDT 2009  NO_QUERY   \n",
       "1       0  1467810672  Mon Apr 06 22:19:49 PDT 2009  NO_QUERY   \n",
       "2       0  1467810917  Mon Apr 06 22:19:53 PDT 2009  NO_QUERY   \n",
       "3       0  1467811184  Mon Apr 06 22:19:57 PDT 2009  NO_QUERY   \n",
       "4       0  1467811193  Mon Apr 06 22:19:57 PDT 2009  NO_QUERY   \n",
       "\n",
       "              user                                               text  \n",
       "0  _TheSpecialOne_  @switchfoot http://twitpic.com/2y1zl - Awww, t...  \n",
       "1    scotthamilton  is upset that he can't update his Facebook by ...  \n",
       "2         mattycus  @Kenichan I dived many times for the ball. Man...  \n",
       "3          ElleCTF    my whole body feels itchy and like its on fire   \n",
       "4           Karoli  @nationwideclass no, it's not behaving at all....  "
      ]
     },
     "execution_count": 23,
     "metadata": {},
     "output_type": "execute_result"
    }
   ],
   "source": [
    "X.head()"
   ]
  },
  {
   "cell_type": "code",
   "execution_count": 24,
   "id": "438afbb9-3909-4fdb-a85e-76f780736847",
   "metadata": {},
   "outputs": [
    {
     "data": {
      "text/plain": [
       "(1600000, 6)"
      ]
     },
     "execution_count": 24,
     "metadata": {},
     "output_type": "execute_result"
    }
   ],
   "source": [
    "X.shape"
   ]
  },
  {
   "cell_type": "code",
   "execution_count": 25,
   "id": "55a1ca16-8cb8-45c2-ba11-3b04b0fe1ddb",
   "metadata": {},
   "outputs": [
    {
     "data": {
      "text/plain": [
       "target    0\n",
       "id        0\n",
       "date      0\n",
       "flag      0\n",
       "user      0\n",
       "text      0\n",
       "dtype: int64"
      ]
     },
     "execution_count": 25,
     "metadata": {},
     "output_type": "execute_result"
    }
   ],
   "source": [
    "#finding missing values in dataframe\n",
    "X.isnull().sum()"
   ]
  },
  {
   "cell_type": "code",
   "execution_count": 26,
   "id": "026fe9ea-d710-489c-bac3-c4b88b71ea47",
   "metadata": {},
   "outputs": [
    {
     "data": {
      "text/plain": [
       "0          0\n",
       "1          0\n",
       "2          0\n",
       "3          0\n",
       "4          0\n",
       "          ..\n",
       "1599995    4\n",
       "1599996    4\n",
       "1599997    4\n",
       "1599998    4\n",
       "1599999    4\n",
       "Name: target, Length: 1600000, dtype: int64"
      ]
     },
     "execution_count": 26,
     "metadata": {},
     "output_type": "execute_result"
    }
   ],
   "source": [
    "#checking the distribution of target columns\n",
    "X.target"
   ]
  },
  {
   "cell_type": "code",
   "execution_count": 27,
   "id": "4f88ac3e-a442-425b-9e5f-b6f28e81562a",
   "metadata": {},
   "outputs": [
    {
     "data": {
      "text/plain": [
       "target\n",
       "0    800000\n",
       "4    800000\n",
       "Name: count, dtype: int64"
      ]
     },
     "execution_count": 27,
     "metadata": {},
     "output_type": "execute_result"
    }
   ],
   "source": [
    "#counting values \n",
    "X['target'].value_counts()"
   ]
  },
  {
   "cell_type": "markdown",
   "id": "0be2fe6a-2c91-4c63-a9e6-3971e7a9e050",
   "metadata": {},
   "source": [
    "#converting target value 4 to 1 "
   ]
  },
  {
   "cell_type": "code",
   "execution_count": 28,
   "id": "1b7d3d95-916b-4174-b07a-4020b5f3dbfc",
   "metadata": {},
   "outputs": [],
   "source": [
    "X.replace({'target':{4:1}},inplace=True)"
   ]
  },
  {
   "cell_type": "markdown",
   "id": "879e4ec1-850b-423b-912a-49e74db03782",
   "metadata": {},
   "source": [
    "1->negative\n",
    "4->positive "
   ]
  },
  {
   "cell_type": "code",
   "execution_count": 29,
   "id": "774297ef-abcd-489b-b377-00220890fbc7",
   "metadata": {},
   "outputs": [
    {
     "data": {
      "text/plain": [
       "target\n",
       "0    800000\n",
       "1    800000\n",
       "Name: count, dtype: int64"
      ]
     },
     "execution_count": 29,
     "metadata": {},
     "output_type": "execute_result"
    }
   ],
   "source": [
    "\n",
    "X['target'].value_counts()\n"
   ]
  },
  {
   "cell_type": "code",
   "execution_count": 30,
   "id": "6ea57fe8-7fb3-4a37-9b75-53dd95343016",
   "metadata": {},
   "outputs": [
    {
     "data": {
      "text/html": [
       "<div>\n",
       "<style scoped>\n",
       "    .dataframe tbody tr th:only-of-type {\n",
       "        vertical-align: middle;\n",
       "    }\n",
       "\n",
       "    .dataframe tbody tr th {\n",
       "        vertical-align: top;\n",
       "    }\n",
       "\n",
       "    .dataframe thead th {\n",
       "        text-align: right;\n",
       "    }\n",
       "</style>\n",
       "<table border=\"1\" class=\"dataframe\">\n",
       "  <thead>\n",
       "    <tr style=\"text-align: right;\">\n",
       "      <th></th>\n",
       "      <th>target</th>\n",
       "      <th>id</th>\n",
       "      <th>date</th>\n",
       "      <th>flag</th>\n",
       "      <th>user</th>\n",
       "      <th>text</th>\n",
       "    </tr>\n",
       "  </thead>\n",
       "  <tbody>\n",
       "    <tr>\n",
       "      <th>0</th>\n",
       "      <td>0</td>\n",
       "      <td>1467810369</td>\n",
       "      <td>Mon Apr 06 22:19:45 PDT 2009</td>\n",
       "      <td>NO_QUERY</td>\n",
       "      <td>_TheSpecialOne_</td>\n",
       "      <td>@switchfoot http://twitpic.com/2y1zl - Awww, t...</td>\n",
       "    </tr>\n",
       "    <tr>\n",
       "      <th>1</th>\n",
       "      <td>0</td>\n",
       "      <td>1467810672</td>\n",
       "      <td>Mon Apr 06 22:19:49 PDT 2009</td>\n",
       "      <td>NO_QUERY</td>\n",
       "      <td>scotthamilton</td>\n",
       "      <td>is upset that he can't update his Facebook by ...</td>\n",
       "    </tr>\n",
       "    <tr>\n",
       "      <th>2</th>\n",
       "      <td>0</td>\n",
       "      <td>1467810917</td>\n",
       "      <td>Mon Apr 06 22:19:53 PDT 2009</td>\n",
       "      <td>NO_QUERY</td>\n",
       "      <td>mattycus</td>\n",
       "      <td>@Kenichan I dived many times for the ball. Man...</td>\n",
       "    </tr>\n",
       "    <tr>\n",
       "      <th>3</th>\n",
       "      <td>0</td>\n",
       "      <td>1467811184</td>\n",
       "      <td>Mon Apr 06 22:19:57 PDT 2009</td>\n",
       "      <td>NO_QUERY</td>\n",
       "      <td>ElleCTF</td>\n",
       "      <td>my whole body feels itchy and like its on fire</td>\n",
       "    </tr>\n",
       "  </tbody>\n",
       "</table>\n",
       "</div>"
      ],
      "text/plain": [
       "   target          id                          date      flag  \\\n",
       "0       0  1467810369  Mon Apr 06 22:19:45 PDT 2009  NO_QUERY   \n",
       "1       0  1467810672  Mon Apr 06 22:19:49 PDT 2009  NO_QUERY   \n",
       "2       0  1467810917  Mon Apr 06 22:19:53 PDT 2009  NO_QUERY   \n",
       "3       0  1467811184  Mon Apr 06 22:19:57 PDT 2009  NO_QUERY   \n",
       "\n",
       "              user                                               text  \n",
       "0  _TheSpecialOne_  @switchfoot http://twitpic.com/2y1zl - Awww, t...  \n",
       "1    scotthamilton  is upset that he can't update his Facebook by ...  \n",
       "2         mattycus  @Kenichan I dived many times for the ball. Man...  \n",
       "3          ElleCTF    my whole body feels itchy and like its on fire   "
      ]
     },
     "execution_count": 30,
     "metadata": {},
     "output_type": "execute_result"
    }
   ],
   "source": [
    "X.head(4)"
   ]
  },
  {
   "cell_type": "code",
   "execution_count": 8,
   "id": "0db6768c-9680-4bbb-bc2f-ef7d11d9c6ca",
   "metadata": {},
   "outputs": [],
   "source": [
    "stemmer =PorterStemmer()\n",
    "\n",
    "\n"
   ]
  },
  {
   "cell_type": "code",
   "execution_count": 9,
   "id": "e0550ebc-0bd4-4359-975d-9d440f6e9596",
   "metadata": {},
   "outputs": [],
   "source": [
    "def stem(text):\n",
    "    text=re.sub('[^a-zA-Z]',' ',text)\n",
    "  #  words =word_tokenize(text)\n",
    "    words=text.split()\n",
    "    #already stop_words define above\n",
    "    filter_words=[word for word in words if word.lower() not in stop_words]\n",
    "    stem_words= [stemmer.stem(word.lower()) for word in filter_words]\n",
    "    return ' '.join(stem_words)"
   ]
  },
  {
   "cell_type": "code",
   "execution_count": 19,
   "id": "b0cc7f2e-d6f1-4fcd-a005-d9edf72d006c",
   "metadata": {},
   "outputs": [],
   "source": [
    "X['text'] = X['text'].apply(stem)"
   ]
  },
  {
   "cell_type": "code",
   "execution_count": 20,
   "id": "52fb00f4-3dc7-4da6-9cca-c5997978e70f",
   "metadata": {},
   "outputs": [
    {
     "data": {
      "text/plain": [
       "0          switchfoot http twitpic com zl awww bummer sho...\n",
       "1          upset updat facebook text might cri result sch...\n",
       "2          kenichan dive mani time ball manag save rest g...\n",
       "3                            whole bodi feel itchi like fire\n",
       "4                              nationwideclass behav mad see\n",
       "                                 ...                        \n",
       "1599995                           woke school best feel ever\n",
       "1599996    thewdb com cool hear old walt interview http b...\n",
       "1599997                         readi mojo makeov ask detail\n",
       "1599998    happi th birthday boo alll time tupac amaru sh...\n",
       "1599999    happi charitytuesday thenspcc sparkschar speak...\n",
       "Name: text, Length: 1600000, dtype: object"
      ]
     },
     "execution_count": 20,
     "metadata": {},
     "output_type": "execute_result"
    }
   ],
   "source": [
    "X['text']"
   ]
  },
  {
   "cell_type": "code",
   "execution_count": null,
   "id": "d11201ed-e215-4cf9-aef1-5ff0cd4c3ce3",
   "metadata": {},
   "outputs": [],
   "source": []
  },
  {
   "cell_type": "code",
   "execution_count": null,
   "id": "cb0c15c8-e9f9-45e2-b42c-72aae960dce8",
   "metadata": {},
   "outputs": [],
   "source": [
    "#saving our process data in other csv file"
   ]
  },
  {
   "cell_type": "code",
   "execution_count": 22,
   "id": "3b198afa-2f9d-453a-b20f-7432f76ebea4",
   "metadata": {},
   "outputs": [],
   "source": [
    "X.to_csv('twitter process data.csv',index=False)"
   ]
  },
  {
   "cell_type": "code",
   "execution_count": 33,
   "id": "cc09a2ba-7c99-4725-8a29-a694947b1745",
   "metadata": {},
   "outputs": [
    {
     "data": {
      "text/html": [
       "<div>\n",
       "<style scoped>\n",
       "    .dataframe tbody tr th:only-of-type {\n",
       "        vertical-align: middle;\n",
       "    }\n",
       "\n",
       "    .dataframe tbody tr th {\n",
       "        vertical-align: top;\n",
       "    }\n",
       "\n",
       "    .dataframe thead th {\n",
       "        text-align: right;\n",
       "    }\n",
       "</style>\n",
       "<table border=\"1\" class=\"dataframe\">\n",
       "  <thead>\n",
       "    <tr style=\"text-align: right;\">\n",
       "      <th></th>\n",
       "      <th>target</th>\n",
       "      <th>id</th>\n",
       "      <th>date</th>\n",
       "      <th>flag</th>\n",
       "      <th>user</th>\n",
       "      <th>text</th>\n",
       "    </tr>\n",
       "  </thead>\n",
       "  <tbody>\n",
       "    <tr>\n",
       "      <th>0</th>\n",
       "      <td>0</td>\n",
       "      <td>1467810369</td>\n",
       "      <td>Mon Apr 06 22:19:45 PDT 2009</td>\n",
       "      <td>NO_QUERY</td>\n",
       "      <td>_TheSpecialOne_</td>\n",
       "      <td>switchfoot http twitpic com zl awww bummer sho...</td>\n",
       "    </tr>\n",
       "    <tr>\n",
       "      <th>1</th>\n",
       "      <td>0</td>\n",
       "      <td>1467810672</td>\n",
       "      <td>Mon Apr 06 22:19:49 PDT 2009</td>\n",
       "      <td>NO_QUERY</td>\n",
       "      <td>scotthamilton</td>\n",
       "      <td>upset updat facebook text might cri result sch...</td>\n",
       "    </tr>\n",
       "    <tr>\n",
       "      <th>2</th>\n",
       "      <td>0</td>\n",
       "      <td>1467810917</td>\n",
       "      <td>Mon Apr 06 22:19:53 PDT 2009</td>\n",
       "      <td>NO_QUERY</td>\n",
       "      <td>mattycus</td>\n",
       "      <td>kenichan dive mani time ball manag save rest g...</td>\n",
       "    </tr>\n",
       "    <tr>\n",
       "      <th>3</th>\n",
       "      <td>0</td>\n",
       "      <td>1467811184</td>\n",
       "      <td>Mon Apr 06 22:19:57 PDT 2009</td>\n",
       "      <td>NO_QUERY</td>\n",
       "      <td>ElleCTF</td>\n",
       "      <td>whole bodi feel itchi like fire</td>\n",
       "    </tr>\n",
       "    <tr>\n",
       "      <th>4</th>\n",
       "      <td>0</td>\n",
       "      <td>1467811193</td>\n",
       "      <td>Mon Apr 06 22:19:57 PDT 2009</td>\n",
       "      <td>NO_QUERY</td>\n",
       "      <td>Karoli</td>\n",
       "      <td>nationwideclass behav mad see</td>\n",
       "    </tr>\n",
       "    <tr>\n",
       "      <th>...</th>\n",
       "      <td>...</td>\n",
       "      <td>...</td>\n",
       "      <td>...</td>\n",
       "      <td>...</td>\n",
       "      <td>...</td>\n",
       "      <td>...</td>\n",
       "    </tr>\n",
       "    <tr>\n",
       "      <th>1599995</th>\n",
       "      <td>1</td>\n",
       "      <td>2193601966</td>\n",
       "      <td>Tue Jun 16 08:40:49 PDT 2009</td>\n",
       "      <td>NO_QUERY</td>\n",
       "      <td>AmandaMarie1028</td>\n",
       "      <td>woke school best feel ever</td>\n",
       "    </tr>\n",
       "    <tr>\n",
       "      <th>1599996</th>\n",
       "      <td>1</td>\n",
       "      <td>2193601969</td>\n",
       "      <td>Tue Jun 16 08:40:49 PDT 2009</td>\n",
       "      <td>NO_QUERY</td>\n",
       "      <td>TheWDBoards</td>\n",
       "      <td>thewdb com cool hear old walt interview http b...</td>\n",
       "    </tr>\n",
       "    <tr>\n",
       "      <th>1599997</th>\n",
       "      <td>1</td>\n",
       "      <td>2193601991</td>\n",
       "      <td>Tue Jun 16 08:40:49 PDT 2009</td>\n",
       "      <td>NO_QUERY</td>\n",
       "      <td>bpbabe</td>\n",
       "      <td>readi mojo makeov ask detail</td>\n",
       "    </tr>\n",
       "    <tr>\n",
       "      <th>1599998</th>\n",
       "      <td>1</td>\n",
       "      <td>2193602064</td>\n",
       "      <td>Tue Jun 16 08:40:49 PDT 2009</td>\n",
       "      <td>NO_QUERY</td>\n",
       "      <td>tinydiamondz</td>\n",
       "      <td>happi th birthday boo alll time tupac amaru sh...</td>\n",
       "    </tr>\n",
       "    <tr>\n",
       "      <th>1599999</th>\n",
       "      <td>1</td>\n",
       "      <td>2193602129</td>\n",
       "      <td>Tue Jun 16 08:40:50 PDT 2009</td>\n",
       "      <td>NO_QUERY</td>\n",
       "      <td>RyanTrevMorris</td>\n",
       "      <td>happi charitytuesday thenspcc sparkschar speak...</td>\n",
       "    </tr>\n",
       "  </tbody>\n",
       "</table>\n",
       "<p>1600000 rows × 6 columns</p>\n",
       "</div>"
      ],
      "text/plain": [
       "         target          id                          date      flag  \\\n",
       "0             0  1467810369  Mon Apr 06 22:19:45 PDT 2009  NO_QUERY   \n",
       "1             0  1467810672  Mon Apr 06 22:19:49 PDT 2009  NO_QUERY   \n",
       "2             0  1467810917  Mon Apr 06 22:19:53 PDT 2009  NO_QUERY   \n",
       "3             0  1467811184  Mon Apr 06 22:19:57 PDT 2009  NO_QUERY   \n",
       "4             0  1467811193  Mon Apr 06 22:19:57 PDT 2009  NO_QUERY   \n",
       "...         ...         ...                           ...       ...   \n",
       "1599995       1  2193601966  Tue Jun 16 08:40:49 PDT 2009  NO_QUERY   \n",
       "1599996       1  2193601969  Tue Jun 16 08:40:49 PDT 2009  NO_QUERY   \n",
       "1599997       1  2193601991  Tue Jun 16 08:40:49 PDT 2009  NO_QUERY   \n",
       "1599998       1  2193602064  Tue Jun 16 08:40:49 PDT 2009  NO_QUERY   \n",
       "1599999       1  2193602129  Tue Jun 16 08:40:50 PDT 2009  NO_QUERY   \n",
       "\n",
       "                    user                                               text  \n",
       "0        _TheSpecialOne_  switchfoot http twitpic com zl awww bummer sho...  \n",
       "1          scotthamilton  upset updat facebook text might cri result sch...  \n",
       "2               mattycus  kenichan dive mani time ball manag save rest g...  \n",
       "3                ElleCTF                    whole bodi feel itchi like fire  \n",
       "4                 Karoli                      nationwideclass behav mad see  \n",
       "...                  ...                                                ...  \n",
       "1599995  AmandaMarie1028                         woke school best feel ever  \n",
       "1599996      TheWDBoards  thewdb com cool hear old walt interview http b...  \n",
       "1599997           bpbabe                       readi mojo makeov ask detail  \n",
       "1599998     tinydiamondz  happi th birthday boo alll time tupac amaru sh...  \n",
       "1599999   RyanTrevMorris  happi charitytuesday thenspcc sparkschar speak...  \n",
       "\n",
       "[1600000 rows x 6 columns]"
      ]
     },
     "execution_count": 33,
     "metadata": {},
     "output_type": "execute_result"
    }
   ],
   "source": [
    "X=pd.read_csv('twitter process data.csv')\n",
    "X"
   ]
  },
  {
   "cell_type": "code",
   "execution_count": null,
   "id": "b0ee2cd1-48f4-4130-b327-7913ef0447b2",
   "metadata": {},
   "outputs": [],
   "source": []
  },
  {
   "cell_type": "code",
   "execution_count": 34,
   "id": "6f151655-8192-427f-a78e-f57d7e4b04e0",
   "metadata": {},
   "outputs": [
    {
     "data": {
      "text/plain": [
       "target      0\n",
       "id          0\n",
       "date        0\n",
       "flag        0\n",
       "user        0\n",
       "text      495\n",
       "dtype: int64"
      ]
     },
     "execution_count": 34,
     "metadata": {},
     "output_type": "execute_result"
    }
   ],
   "source": [
    "X.isnull().sum()"
   ]
  },
  {
   "cell_type": "code",
   "execution_count": 35,
   "id": "cbddc340-5953-4ee5-9f85-9bc798a04258",
   "metadata": {},
   "outputs": [],
   "source": [
    "X=X.dropna()"
   ]
  },
  {
   "cell_type": "code",
   "execution_count": 36,
   "id": "3e364433-ea55-4cab-9d07-f9e4eec1a7a4",
   "metadata": {},
   "outputs": [
    {
     "data": {
      "text/plain": [
       "target    0\n",
       "id        0\n",
       "date      0\n",
       "flag      0\n",
       "user      0\n",
       "text      0\n",
       "dtype: int64"
      ]
     },
     "execution_count": 36,
     "metadata": {},
     "output_type": "execute_result"
    }
   ],
   "source": [
    "X.isnull().sum()"
   ]
  },
  {
   "cell_type": "code",
   "execution_count": 37,
   "id": "e80269e9-50cf-4218-a85d-476ffbd00607",
   "metadata": {},
   "outputs": [],
   "source": [
    "X_target=X['target']\n"
   ]
  },
  {
   "cell_type": "code",
   "execution_count": 38,
   "id": "145745cd-ea99-48c7-9b28-865401835d51",
   "metadata": {},
   "outputs": [
    {
     "data": {
      "text/plain": [
       "0          switchfoot http twitpic com zl awww bummer sho...\n",
       "1          upset updat facebook text might cri result sch...\n",
       "2          kenichan dive mani time ball manag save rest g...\n",
       "3                            whole bodi feel itchi like fire\n",
       "4                              nationwideclass behav mad see\n",
       "                                 ...                        \n",
       "1599995                           woke school best feel ever\n",
       "1599996    thewdb com cool hear old walt interview http b...\n",
       "1599997                         readi mojo makeov ask detail\n",
       "1599998    happi th birthday boo alll time tupac amaru sh...\n",
       "1599999    happi charitytuesday thenspcc sparkschar speak...\n",
       "Name: text, Length: 1599505, dtype: object"
      ]
     },
     "execution_count": 38,
     "metadata": {},
     "output_type": "execute_result"
    }
   ],
   "source": [
    "X_text=X['text']\n",
    "X_text"
   ]
  },
  {
   "cell_type": "code",
   "execution_count": 39,
   "id": "b1b7d703-7f28-40db-a2c9-7519d997f995",
   "metadata": {},
   "outputs": [],
   "source": [
    "X_train , X_test , Y_train ,Y_test=train_test_split(X_text,X_target,test_size=0.2,random_state=2)"
   ]
  },
  {
   "cell_type": "code",
   "execution_count": 40,
   "id": "7a191490-7e87-4db5-a538-f4fa17d1b568",
   "metadata": {},
   "outputs": [
    {
     "data": {
      "text/plain": [
       "(1279604,)"
      ]
     },
     "execution_count": 40,
     "metadata": {},
     "output_type": "execute_result"
    }
   ],
   "source": [
    "X_train.shape"
   ]
  },
  {
   "cell_type": "code",
   "execution_count": null,
   "id": "7eeb3470-a69b-41e8-9d9a-5846584fd57f",
   "metadata": {},
   "outputs": [],
   "source": []
  },
  {
   "cell_type": "code",
   "execution_count": 42,
   "id": "02f1bb9a-5bd1-41d6-8f25-29700b4a741e",
   "metadata": {},
   "outputs": [
    {
     "data": {
      "text/plain": [
       "441998     hate texa get damn hot make work hottest build...\n",
       "1547656    wait exam thursday feel like time someth excit...\n",
       "740683                 day quot quot rain outsid hang around\n",
       "1584757                    zarifmus good luck shweeti x good\n",
       "1345291                                       play time work\n",
       "                                 ...                        \n",
       "125472     sad see peopl let system alon swig bottl cider...\n",
       "1237565                         stephjonesmus hold steadfast\n",
       "897242                      madeaouttajail good day tomorrow\n",
       "598110     seriou phone issu work feel upto hate go argu ...\n",
       "264626            hard decid depress even news pen wing game\n",
       "Name: text, Length: 319901, dtype: object"
      ]
     },
     "execution_count": 42,
     "metadata": {},
     "output_type": "execute_result"
    }
   ],
   "source": [
    "X_test"
   ]
  },
  {
   "cell_type": "code",
   "execution_count": 43,
   "id": "72babdc2-3b78-4d30-9343-ccd501d4cb1b",
   "metadata": {},
   "outputs": [],
   "source": [
    "Y_train_new=Y_train.tolist()"
   ]
  },
  {
   "cell_type": "code",
   "execution_count": 44,
   "id": "42284ad8-a679-41fd-925d-0e1e5e27770e",
   "metadata": {},
   "outputs": [],
   "source": [
    "Y_test_new=Y_test.tolist()"
   ]
  },
  {
   "cell_type": "code",
   "execution_count": 45,
   "id": "34e68e79-6b28-486c-9f78-dd48e46fabd4",
   "metadata": {},
   "outputs": [],
   "source": [
    "X_train_new= X_train.tolist()"
   ]
  },
  {
   "cell_type": "code",
   "execution_count": 46,
   "id": "58aa05c3-e0b5-4a4a-ad38-9889f3b4b047",
   "metadata": {},
   "outputs": [
    {
     "data": {
      "text/plain": [
       "'finalis annual report ugh'"
      ]
     },
     "execution_count": 46,
     "metadata": {},
     "output_type": "execute_result"
    }
   ],
   "source": [
    "X_train[3003]"
   ]
  },
  {
   "cell_type": "code",
   "execution_count": 47,
   "id": "d0ed8703-525a-4631-b7ca-b52bd9ab0f24",
   "metadata": {},
   "outputs": [],
   "source": [
    "X_test_new=X_test.tolist()"
   ]
  },
  {
   "cell_type": "code",
   "execution_count": null,
   "id": "453080aa-c98e-4f8d-9b55-12dead48f25d",
   "metadata": {},
   "outputs": [],
   "source": []
  },
  {
   "cell_type": "code",
   "execution_count": 49,
   "id": "83187563-e24e-4872-8b93-eb48d0b7b94c",
   "metadata": {},
   "outputs": [
    {
     "data": {
      "text/plain": [
       "1175168"
      ]
     },
     "execution_count": 49,
     "metadata": {},
     "output_type": "execute_result"
    }
   ],
   "source": [
    "X_train_new.index('finalis annual report ugh')"
   ]
  },
  {
   "cell_type": "code",
   "execution_count": 50,
   "id": "6c27b563-843d-422b-932c-0c6a2d313e5e",
   "metadata": {},
   "outputs": [],
   "source": [
    "vectorizer = TfidfVectorizer()"
   ]
  },
  {
   "cell_type": "code",
   "execution_count": 51,
   "id": "125f25cc-07d6-4dd9-84eb-065ed284cc96",
   "metadata": {},
   "outputs": [],
   "source": [
    "X_vectorizer = vectorizer.fit_transform(X_train_new)\n",
    "X_vectorizer_test=vectorizer.transform(X_test_new)"
   ]
  },
  {
   "cell_type": "code",
   "execution_count": 52,
   "id": "b52ef9eb-ee20-432f-827d-0bcf2b941a9e",
   "metadata": {},
   "outputs": [
    {
     "name": "stdout",
     "output_type": "stream",
     "text": [
      "  (0, 30535)\t0.2545289766716849\n",
      "  (0, 359691)\t0.3218636428551789\n",
      "  (0, 140018)\t0.2871094738070574\n",
      "  (0, 115671)\t0.2873918485989689\n",
      "  (0, 435275)\t0.21059631873870494\n",
      "  (0, 389751)\t0.24214004752576873\n",
      "  (0, 258841)\t0.2629461830596844\n",
      "  (0, 239485)\t0.1859609296988658\n",
      "  (0, 243560)\t0.2664222306852897\n",
      "  (0, 286242)\t0.19833253136721726\n",
      "  (0, 400306)\t0.18476928226004372\n",
      "  (0, 398533)\t0.561633163675914\n",
      "  (1, 241742)\t0.2690531467288972\n",
      "  (1, 202037)\t0.9631253315302627\n",
      "  (2, 23372)\t0.31533377862524703\n",
      "  (2, 338843)\t0.40478158211207066\n",
      "  (2, 317983)\t0.27773264308329243\n",
      "  (2, 31285)\t0.260332694906939\n",
      "  (2, 151441)\t0.21884460794270733\n",
      "  (2, 383450)\t0.6985299748878829\n",
      "  (2, 286242)\t0.23658160859789595\n",
      "  (3, 152470)\t0.6193243111409946\n",
      "  (3, 406055)\t0.303879503683233\n",
      "  (3, 353716)\t0.4935821295367232\n",
      "  (3, 349364)\t0.3401264744809228\n",
      "  :\t:\n",
      "  (1279596, 30535)\t0.33506776119426\n",
      "  (1279597, 90419)\t0.8347214999863357\n",
      "  (1279597, 388680)\t0.4210324631651179\n",
      "  (1279597, 358088)\t0.2593251054199589\n",
      "  (1279597, 411166)\t0.24232658153946443\n",
      "  (1279598, 168353)\t0.8179147064461781\n",
      "  (1279598, 126740)\t0.4695945980730913\n",
      "  (1279598, 376894)\t0.3324100576691899\n",
      "  (1279599, 109652)\t0.8739715769824725\n",
      "  (1279599, 163516)\t0.48597703919709023\n",
      "  (1279600, 395453)\t0.856891471830262\n",
      "  (1279600, 78617)\t0.35753406192713116\n",
      "  (1279600, 435275)\t0.3713575097752215\n",
      "  (1279601, 83827)\t0.6412912471235541\n",
      "  (1279601, 174369)\t0.615717952395125\n",
      "  (1279601, 145659)\t0.33287130292988276\n",
      "  (1279601, 149474)\t0.3143781721857189\n",
      "  (1279602, 83467)\t0.5522679471062472\n",
      "  (1279602, 83243)\t0.6006764353660535\n",
      "  (1279602, 307398)\t0.5780899018275469\n",
      "  (1279603, 363699)\t0.5644529332590386\n",
      "  (1279603, 349705)\t0.47542420165207555\n",
      "  (1279603, 52582)\t0.44032303099794795\n",
      "  (1279603, 325631)\t0.43080936838598227\n",
      "  (1279603, 244453)\t0.2754698370101617\n"
     ]
    },
    {
     "data": {
      "text/plain": [
       "(1279604, 461247)"
      ]
     },
     "execution_count": 52,
     "metadata": {},
     "output_type": "execute_result"
    }
   ],
   "source": [
    "print(X_vectorizer)\n",
    "X_vectorizer.shape"
   ]
  },
  {
   "cell_type": "code",
   "execution_count": 53,
   "id": "0e393557-539a-449e-96ea-cfb67c23615b",
   "metadata": {},
   "outputs": [
    {
     "name": "stdout",
     "output_type": "stream",
     "text": [
      "  (0, 445726)\t0.26165116910943054\n",
      "  (0, 445543)\t0.1691608242899575\n",
      "  (0, 443452)\t0.20786735732609457\n",
      "  (0, 399598)\t0.3562488881693288\n",
      "  (0, 340760)\t0.21651885204066768\n",
      "  (0, 248859)\t0.19805011380359372\n",
      "  (0, 169814)\t0.4261823761337683\n",
      "  (0, 169582)\t0.25706812135527046\n",
      "  (0, 160203)\t0.22574351523322037\n",
      "  (0, 145659)\t0.15890847981746423\n",
      "  (0, 89353)\t0.25298347289782797\n",
      "  (0, 81910)\t0.22689772317949294\n",
      "  (0, 76943)\t0.30308663967493427\n",
      "  (0, 55463)\t0.33974212269622883\n",
      "  (1, 435275)\t0.2860242669740904\n",
      "  (1, 408738)\t0.2452713455146187\n",
      "  (1, 407531)\t0.4325642100576703\n",
      "  (1, 375316)\t0.3328897992457282\n",
      "  (1, 234346)\t0.2322636940980182\n",
      "  (1, 169042)\t0.2669696631145576\n",
      "  (1, 159043)\t0.35133451109838454\n",
      "  (1, 129906)\t0.26021655592171195\n",
      "  (1, 125320)\t0.34175834759328044\n",
      "  (1, 125163)\t0.3562837128931933\n",
      "  (2, 331459)\t0.3473916309582564\n",
      "  :\t:\n",
      "  (319896, 12176)\t0.2747836507785833\n",
      "  (319897, 383094)\t0.5857698210339519\n",
      "  (319897, 382083)\t0.7197131212893373\n",
      "  (319897, 167570)\t0.37267511294666783\n",
      "  (319898, 412175)\t0.6682661570769667\n",
      "  (319898, 150449)\t0.5359779442425489\n",
      "  (319898, 93670)\t0.5158953252270407\n",
      "  (319899, 445543)\t0.16977857282854963\n",
      "  (319899, 436260)\t0.4494106218876361\n",
      "  (319899, 426388)\t0.4539826168875407\n",
      "  (319899, 359542)\t0.3353015743045349\n",
      "  (319899, 314802)\t0.24729521127098109\n",
      "  (319899, 183258)\t0.3276867670468713\n",
      "  (319899, 160203)\t0.22656789479756287\n",
      "  (319899, 149474)\t0.15062816573727825\n",
      "  (319899, 129906)\t0.19211444445361203\n",
      "  (319899, 22637)\t0.41378087573790073\n",
      "  (319900, 443036)\t0.42067296024851136\n",
      "  (319900, 311855)\t0.43192008433934764\n",
      "  (319900, 288234)\t0.33672030314278106\n",
      "  (319900, 159361)\t0.30947496739839225\n",
      "  (319900, 142227)\t0.29966377819408135\n",
      "  (319900, 124161)\t0.2660873354726445\n",
      "  (319900, 97913)\t0.36838987984515303\n",
      "  (319900, 95640)\t0.3619558393401511\n"
     ]
    },
    {
     "data": {
      "text/plain": [
       "(319901, 461247)"
      ]
     },
     "execution_count": 53,
     "metadata": {},
     "output_type": "execute_result"
    }
   ],
   "source": [
    "print(X_vectorizer_test)\n",
    "X_vectorizer_test.shape"
   ]
  },
  {
   "cell_type": "code",
   "execution_count": 54,
   "id": "4da1ad54-531c-4f7f-88b1-223dc77e0129",
   "metadata": {},
   "outputs": [],
   "source": [
    "feature_names=vectorizer.get_feature_names_out()"
   ]
  },
  {
   "cell_type": "code",
   "execution_count": 55,
   "id": "4feeef78-fc93-45dc-83c4-fdfde0bee279",
   "metadata": {},
   "outputs": [
    {
     "data": {
      "text/plain": [
       "array(['aa', 'aaa', 'aaaa', ..., 'zzzzzzzzzzzzzzzzzzzzzzzzzzzzzzzzzzz',\n",
       "       'zzzzzzzzzzzzzzzzzzzzzzzzzzzzzzzzzzzzzzzzzzzzzzzzzzzzzz',\n",
       "       'zzzzzzzzzzzzzzzzzzzzzzzzzzzzzzzzzzzzzzzzzzzzzzzzzzzzzzzzz'],\n",
       "      dtype=object)"
      ]
     },
     "execution_count": 55,
     "metadata": {},
     "output_type": "execute_result"
    }
   ],
   "source": [
    "feature_names"
   ]
  },
  {
   "cell_type": "code",
   "execution_count": 56,
   "id": "6dfc31e4-fed0-459f-947a-8ddf487ff1a9",
   "metadata": {},
   "outputs": [],
   "source": [
    "# max_iter value can't occur overfitting "
   ]
  },
  {
   "cell_type": "code",
   "execution_count": 57,
   "id": "7dc49ac3-7f91-4d75-8bf6-a246b77e0c29",
   "metadata": {},
   "outputs": [],
   "source": [
    "model = LogisticRegression(max_iter=1000)"
   ]
  },
  {
   "cell_type": "code",
   "execution_count": 58,
   "id": "477ba642-422b-4dae-8330-a9a21acf1c08",
   "metadata": {},
   "outputs": [
    {
     "data": {
      "text/html": [
       "<style>#sk-container-id-1 {\n",
       "  /* Definition of color scheme common for light and dark mode */\n",
       "  --sklearn-color-text: black;\n",
       "  --sklearn-color-line: gray;\n",
       "  /* Definition of color scheme for unfitted estimators */\n",
       "  --sklearn-color-unfitted-level-0: #fff5e6;\n",
       "  --sklearn-color-unfitted-level-1: #f6e4d2;\n",
       "  --sklearn-color-unfitted-level-2: #ffe0b3;\n",
       "  --sklearn-color-unfitted-level-3: chocolate;\n",
       "  /* Definition of color scheme for fitted estimators */\n",
       "  --sklearn-color-fitted-level-0: #f0f8ff;\n",
       "  --sklearn-color-fitted-level-1: #d4ebff;\n",
       "  --sklearn-color-fitted-level-2: #b3dbfd;\n",
       "  --sklearn-color-fitted-level-3: cornflowerblue;\n",
       "\n",
       "  /* Specific color for light theme */\n",
       "  --sklearn-color-text-on-default-background: var(--sg-text-color, var(--theme-code-foreground, var(--jp-content-font-color1, black)));\n",
       "  --sklearn-color-background: var(--sg-background-color, var(--theme-background, var(--jp-layout-color0, white)));\n",
       "  --sklearn-color-border-box: var(--sg-text-color, var(--theme-code-foreground, var(--jp-content-font-color1, black)));\n",
       "  --sklearn-color-icon: #696969;\n",
       "\n",
       "  @media (prefers-color-scheme: dark) {\n",
       "    /* Redefinition of color scheme for dark theme */\n",
       "    --sklearn-color-text-on-default-background: var(--sg-text-color, var(--theme-code-foreground, var(--jp-content-font-color1, white)));\n",
       "    --sklearn-color-background: var(--sg-background-color, var(--theme-background, var(--jp-layout-color0, #111)));\n",
       "    --sklearn-color-border-box: var(--sg-text-color, var(--theme-code-foreground, var(--jp-content-font-color1, white)));\n",
       "    --sklearn-color-icon: #878787;\n",
       "  }\n",
       "}\n",
       "\n",
       "#sk-container-id-1 {\n",
       "  color: var(--sklearn-color-text);\n",
       "}\n",
       "\n",
       "#sk-container-id-1 pre {\n",
       "  padding: 0;\n",
       "}\n",
       "\n",
       "#sk-container-id-1 input.sk-hidden--visually {\n",
       "  border: 0;\n",
       "  clip: rect(1px 1px 1px 1px);\n",
       "  clip: rect(1px, 1px, 1px, 1px);\n",
       "  height: 1px;\n",
       "  margin: -1px;\n",
       "  overflow: hidden;\n",
       "  padding: 0;\n",
       "  position: absolute;\n",
       "  width: 1px;\n",
       "}\n",
       "\n",
       "#sk-container-id-1 div.sk-dashed-wrapped {\n",
       "  border: 1px dashed var(--sklearn-color-line);\n",
       "  margin: 0 0.4em 0.5em 0.4em;\n",
       "  box-sizing: border-box;\n",
       "  padding-bottom: 0.4em;\n",
       "  background-color: var(--sklearn-color-background);\n",
       "}\n",
       "\n",
       "#sk-container-id-1 div.sk-container {\n",
       "  /* jupyter's `normalize.less` sets `[hidden] { display: none; }`\n",
       "     but bootstrap.min.css set `[hidden] { display: none !important; }`\n",
       "     so we also need the `!important` here to be able to override the\n",
       "     default hidden behavior on the sphinx rendered scikit-learn.org.\n",
       "     See: https://github.com/scikit-learn/scikit-learn/issues/21755 */\n",
       "  display: inline-block !important;\n",
       "  position: relative;\n",
       "}\n",
       "\n",
       "#sk-container-id-1 div.sk-text-repr-fallback {\n",
       "  display: none;\n",
       "}\n",
       "\n",
       "div.sk-parallel-item,\n",
       "div.sk-serial,\n",
       "div.sk-item {\n",
       "  /* draw centered vertical line to link estimators */\n",
       "  background-image: linear-gradient(var(--sklearn-color-text-on-default-background), var(--sklearn-color-text-on-default-background));\n",
       "  background-size: 2px 100%;\n",
       "  background-repeat: no-repeat;\n",
       "  background-position: center center;\n",
       "}\n",
       "\n",
       "/* Parallel-specific style estimator block */\n",
       "\n",
       "#sk-container-id-1 div.sk-parallel-item::after {\n",
       "  content: \"\";\n",
       "  width: 100%;\n",
       "  border-bottom: 2px solid var(--sklearn-color-text-on-default-background);\n",
       "  flex-grow: 1;\n",
       "}\n",
       "\n",
       "#sk-container-id-1 div.sk-parallel {\n",
       "  display: flex;\n",
       "  align-items: stretch;\n",
       "  justify-content: center;\n",
       "  background-color: var(--sklearn-color-background);\n",
       "  position: relative;\n",
       "}\n",
       "\n",
       "#sk-container-id-1 div.sk-parallel-item {\n",
       "  display: flex;\n",
       "  flex-direction: column;\n",
       "}\n",
       "\n",
       "#sk-container-id-1 div.sk-parallel-item:first-child::after {\n",
       "  align-self: flex-end;\n",
       "  width: 50%;\n",
       "}\n",
       "\n",
       "#sk-container-id-1 div.sk-parallel-item:last-child::after {\n",
       "  align-self: flex-start;\n",
       "  width: 50%;\n",
       "}\n",
       "\n",
       "#sk-container-id-1 div.sk-parallel-item:only-child::after {\n",
       "  width: 0;\n",
       "}\n",
       "\n",
       "/* Serial-specific style estimator block */\n",
       "\n",
       "#sk-container-id-1 div.sk-serial {\n",
       "  display: flex;\n",
       "  flex-direction: column;\n",
       "  align-items: center;\n",
       "  background-color: var(--sklearn-color-background);\n",
       "  padding-right: 1em;\n",
       "  padding-left: 1em;\n",
       "}\n",
       "\n",
       "\n",
       "/* Toggleable style: style used for estimator/Pipeline/ColumnTransformer box that is\n",
       "clickable and can be expanded/collapsed.\n",
       "- Pipeline and ColumnTransformer use this feature and define the default style\n",
       "- Estimators will overwrite some part of the style using the `sk-estimator` class\n",
       "*/\n",
       "\n",
       "/* Pipeline and ColumnTransformer style (default) */\n",
       "\n",
       "#sk-container-id-1 div.sk-toggleable {\n",
       "  /* Default theme specific background. It is overwritten whether we have a\n",
       "  specific estimator or a Pipeline/ColumnTransformer */\n",
       "  background-color: var(--sklearn-color-background);\n",
       "}\n",
       "\n",
       "/* Toggleable label */\n",
       "#sk-container-id-1 label.sk-toggleable__label {\n",
       "  cursor: pointer;\n",
       "  display: block;\n",
       "  width: 100%;\n",
       "  margin-bottom: 0;\n",
       "  padding: 0.5em;\n",
       "  box-sizing: border-box;\n",
       "  text-align: center;\n",
       "}\n",
       "\n",
       "#sk-container-id-1 label.sk-toggleable__label-arrow:before {\n",
       "  /* Arrow on the left of the label */\n",
       "  content: \"▸\";\n",
       "  float: left;\n",
       "  margin-right: 0.25em;\n",
       "  color: var(--sklearn-color-icon);\n",
       "}\n",
       "\n",
       "#sk-container-id-1 label.sk-toggleable__label-arrow:hover:before {\n",
       "  color: var(--sklearn-color-text);\n",
       "}\n",
       "\n",
       "/* Toggleable content - dropdown */\n",
       "\n",
       "#sk-container-id-1 div.sk-toggleable__content {\n",
       "  max-height: 0;\n",
       "  max-width: 0;\n",
       "  overflow: hidden;\n",
       "  text-align: left;\n",
       "  /* unfitted */\n",
       "  background-color: var(--sklearn-color-unfitted-level-0);\n",
       "}\n",
       "\n",
       "#sk-container-id-1 div.sk-toggleable__content.fitted {\n",
       "  /* fitted */\n",
       "  background-color: var(--sklearn-color-fitted-level-0);\n",
       "}\n",
       "\n",
       "#sk-container-id-1 div.sk-toggleable__content pre {\n",
       "  margin: 0.2em;\n",
       "  border-radius: 0.25em;\n",
       "  color: var(--sklearn-color-text);\n",
       "  /* unfitted */\n",
       "  background-color: var(--sklearn-color-unfitted-level-0);\n",
       "}\n",
       "\n",
       "#sk-container-id-1 div.sk-toggleable__content.fitted pre {\n",
       "  /* unfitted */\n",
       "  background-color: var(--sklearn-color-fitted-level-0);\n",
       "}\n",
       "\n",
       "#sk-container-id-1 input.sk-toggleable__control:checked~div.sk-toggleable__content {\n",
       "  /* Expand drop-down */\n",
       "  max-height: 200px;\n",
       "  max-width: 100%;\n",
       "  overflow: auto;\n",
       "}\n",
       "\n",
       "#sk-container-id-1 input.sk-toggleable__control:checked~label.sk-toggleable__label-arrow:before {\n",
       "  content: \"▾\";\n",
       "}\n",
       "\n",
       "/* Pipeline/ColumnTransformer-specific style */\n",
       "\n",
       "#sk-container-id-1 div.sk-label input.sk-toggleable__control:checked~label.sk-toggleable__label {\n",
       "  color: var(--sklearn-color-text);\n",
       "  background-color: var(--sklearn-color-unfitted-level-2);\n",
       "}\n",
       "\n",
       "#sk-container-id-1 div.sk-label.fitted input.sk-toggleable__control:checked~label.sk-toggleable__label {\n",
       "  background-color: var(--sklearn-color-fitted-level-2);\n",
       "}\n",
       "\n",
       "/* Estimator-specific style */\n",
       "\n",
       "/* Colorize estimator box */\n",
       "#sk-container-id-1 div.sk-estimator input.sk-toggleable__control:checked~label.sk-toggleable__label {\n",
       "  /* unfitted */\n",
       "  background-color: var(--sklearn-color-unfitted-level-2);\n",
       "}\n",
       "\n",
       "#sk-container-id-1 div.sk-estimator.fitted input.sk-toggleable__control:checked~label.sk-toggleable__label {\n",
       "  /* fitted */\n",
       "  background-color: var(--sklearn-color-fitted-level-2);\n",
       "}\n",
       "\n",
       "#sk-container-id-1 div.sk-label label.sk-toggleable__label,\n",
       "#sk-container-id-1 div.sk-label label {\n",
       "  /* The background is the default theme color */\n",
       "  color: var(--sklearn-color-text-on-default-background);\n",
       "}\n",
       "\n",
       "/* On hover, darken the color of the background */\n",
       "#sk-container-id-1 div.sk-label:hover label.sk-toggleable__label {\n",
       "  color: var(--sklearn-color-text);\n",
       "  background-color: var(--sklearn-color-unfitted-level-2);\n",
       "}\n",
       "\n",
       "/* Label box, darken color on hover, fitted */\n",
       "#sk-container-id-1 div.sk-label.fitted:hover label.sk-toggleable__label.fitted {\n",
       "  color: var(--sklearn-color-text);\n",
       "  background-color: var(--sklearn-color-fitted-level-2);\n",
       "}\n",
       "\n",
       "/* Estimator label */\n",
       "\n",
       "#sk-container-id-1 div.sk-label label {\n",
       "  font-family: monospace;\n",
       "  font-weight: bold;\n",
       "  display: inline-block;\n",
       "  line-height: 1.2em;\n",
       "}\n",
       "\n",
       "#sk-container-id-1 div.sk-label-container {\n",
       "  text-align: center;\n",
       "}\n",
       "\n",
       "/* Estimator-specific */\n",
       "#sk-container-id-1 div.sk-estimator {\n",
       "  font-family: monospace;\n",
       "  border: 1px dotted var(--sklearn-color-border-box);\n",
       "  border-radius: 0.25em;\n",
       "  box-sizing: border-box;\n",
       "  margin-bottom: 0.5em;\n",
       "  /* unfitted */\n",
       "  background-color: var(--sklearn-color-unfitted-level-0);\n",
       "}\n",
       "\n",
       "#sk-container-id-1 div.sk-estimator.fitted {\n",
       "  /* fitted */\n",
       "  background-color: var(--sklearn-color-fitted-level-0);\n",
       "}\n",
       "\n",
       "/* on hover */\n",
       "#sk-container-id-1 div.sk-estimator:hover {\n",
       "  /* unfitted */\n",
       "  background-color: var(--sklearn-color-unfitted-level-2);\n",
       "}\n",
       "\n",
       "#sk-container-id-1 div.sk-estimator.fitted:hover {\n",
       "  /* fitted */\n",
       "  background-color: var(--sklearn-color-fitted-level-2);\n",
       "}\n",
       "\n",
       "/* Specification for estimator info (e.g. \"i\" and \"?\") */\n",
       "\n",
       "/* Common style for \"i\" and \"?\" */\n",
       "\n",
       ".sk-estimator-doc-link,\n",
       "a:link.sk-estimator-doc-link,\n",
       "a:visited.sk-estimator-doc-link {\n",
       "  float: right;\n",
       "  font-size: smaller;\n",
       "  line-height: 1em;\n",
       "  font-family: monospace;\n",
       "  background-color: var(--sklearn-color-background);\n",
       "  border-radius: 1em;\n",
       "  height: 1em;\n",
       "  width: 1em;\n",
       "  text-decoration: none !important;\n",
       "  margin-left: 1ex;\n",
       "  /* unfitted */\n",
       "  border: var(--sklearn-color-unfitted-level-1) 1pt solid;\n",
       "  color: var(--sklearn-color-unfitted-level-1);\n",
       "}\n",
       "\n",
       ".sk-estimator-doc-link.fitted,\n",
       "a:link.sk-estimator-doc-link.fitted,\n",
       "a:visited.sk-estimator-doc-link.fitted {\n",
       "  /* fitted */\n",
       "  border: var(--sklearn-color-fitted-level-1) 1pt solid;\n",
       "  color: var(--sklearn-color-fitted-level-1);\n",
       "}\n",
       "\n",
       "/* On hover */\n",
       "div.sk-estimator:hover .sk-estimator-doc-link:hover,\n",
       ".sk-estimator-doc-link:hover,\n",
       "div.sk-label-container:hover .sk-estimator-doc-link:hover,\n",
       ".sk-estimator-doc-link:hover {\n",
       "  /* unfitted */\n",
       "  background-color: var(--sklearn-color-unfitted-level-3);\n",
       "  color: var(--sklearn-color-background);\n",
       "  text-decoration: none;\n",
       "}\n",
       "\n",
       "div.sk-estimator.fitted:hover .sk-estimator-doc-link.fitted:hover,\n",
       ".sk-estimator-doc-link.fitted:hover,\n",
       "div.sk-label-container:hover .sk-estimator-doc-link.fitted:hover,\n",
       ".sk-estimator-doc-link.fitted:hover {\n",
       "  /* fitted */\n",
       "  background-color: var(--sklearn-color-fitted-level-3);\n",
       "  color: var(--sklearn-color-background);\n",
       "  text-decoration: none;\n",
       "}\n",
       "\n",
       "/* Span, style for the box shown on hovering the info icon */\n",
       ".sk-estimator-doc-link span {\n",
       "  display: none;\n",
       "  z-index: 9999;\n",
       "  position: relative;\n",
       "  font-weight: normal;\n",
       "  right: .2ex;\n",
       "  padding: .5ex;\n",
       "  margin: .5ex;\n",
       "  width: min-content;\n",
       "  min-width: 20ex;\n",
       "  max-width: 50ex;\n",
       "  color: var(--sklearn-color-text);\n",
       "  box-shadow: 2pt 2pt 4pt #999;\n",
       "  /* unfitted */\n",
       "  background: var(--sklearn-color-unfitted-level-0);\n",
       "  border: .5pt solid var(--sklearn-color-unfitted-level-3);\n",
       "}\n",
       "\n",
       ".sk-estimator-doc-link.fitted span {\n",
       "  /* fitted */\n",
       "  background: var(--sklearn-color-fitted-level-0);\n",
       "  border: var(--sklearn-color-fitted-level-3);\n",
       "}\n",
       "\n",
       ".sk-estimator-doc-link:hover span {\n",
       "  display: block;\n",
       "}\n",
       "\n",
       "/* \"?\"-specific style due to the `<a>` HTML tag */\n",
       "\n",
       "#sk-container-id-1 a.estimator_doc_link {\n",
       "  float: right;\n",
       "  font-size: 1rem;\n",
       "  line-height: 1em;\n",
       "  font-family: monospace;\n",
       "  background-color: var(--sklearn-color-background);\n",
       "  border-radius: 1rem;\n",
       "  height: 1rem;\n",
       "  width: 1rem;\n",
       "  text-decoration: none;\n",
       "  /* unfitted */\n",
       "  color: var(--sklearn-color-unfitted-level-1);\n",
       "  border: var(--sklearn-color-unfitted-level-1) 1pt solid;\n",
       "}\n",
       "\n",
       "#sk-container-id-1 a.estimator_doc_link.fitted {\n",
       "  /* fitted */\n",
       "  border: var(--sklearn-color-fitted-level-1) 1pt solid;\n",
       "  color: var(--sklearn-color-fitted-level-1);\n",
       "}\n",
       "\n",
       "/* On hover */\n",
       "#sk-container-id-1 a.estimator_doc_link:hover {\n",
       "  /* unfitted */\n",
       "  background-color: var(--sklearn-color-unfitted-level-3);\n",
       "  color: var(--sklearn-color-background);\n",
       "  text-decoration: none;\n",
       "}\n",
       "\n",
       "#sk-container-id-1 a.estimator_doc_link.fitted:hover {\n",
       "  /* fitted */\n",
       "  background-color: var(--sklearn-color-fitted-level-3);\n",
       "}\n",
       "</style><div id=\"sk-container-id-1\" class=\"sk-top-container\"><div class=\"sk-text-repr-fallback\"><pre>LogisticRegression(max_iter=1000)</pre><b>In a Jupyter environment, please rerun this cell to show the HTML representation or trust the notebook. <br />On GitHub, the HTML representation is unable to render, please try loading this page with nbviewer.org.</b></div><div class=\"sk-container\" hidden><div class=\"sk-item\"><div class=\"sk-estimator fitted sk-toggleable\"><input class=\"sk-toggleable__control sk-hidden--visually\" id=\"sk-estimator-id-1\" type=\"checkbox\" checked><label for=\"sk-estimator-id-1\" class=\"sk-toggleable__label fitted sk-toggleable__label-arrow fitted\">&nbsp;&nbsp;LogisticRegression<a class=\"sk-estimator-doc-link fitted\" rel=\"noreferrer\" target=\"_blank\" href=\"https://scikit-learn.org/1.4/modules/generated/sklearn.linear_model.LogisticRegression.html\">?<span>Documentation for LogisticRegression</span></a><span class=\"sk-estimator-doc-link fitted\">i<span>Fitted</span></span></label><div class=\"sk-toggleable__content fitted\"><pre>LogisticRegression(max_iter=1000)</pre></div> </div></div></div></div>"
      ],
      "text/plain": [
       "LogisticRegression(max_iter=1000)"
      ]
     },
     "execution_count": 58,
     "metadata": {},
     "output_type": "execute_result"
    }
   ],
   "source": [
    "model.fit(X_vectorizer,Y_train_new)"
   ]
  },
  {
   "cell_type": "markdown",
   "id": "62afe3a0-8338-417a-88fc-a357a845cd9a",
   "metadata": {},
   "source": [
    "#coefficient for all features values "
   ]
  },
  {
   "cell_type": "code",
   "execution_count": 59,
   "id": "1c64d738-7e34-45b4-96eb-c3038b6c3f85",
   "metadata": {},
   "outputs": [
    {
     "data": {
      "text/plain": [
       "461247"
      ]
     },
     "execution_count": 59,
     "metadata": {},
     "output_type": "execute_result"
    }
   ],
   "source": [
    "coe=model.coef_\n",
    "coe.size"
   ]
  },
  {
   "cell_type": "code",
   "execution_count": 60,
   "id": "a15ed781-79c5-4d94-b29e-1dfbe7b93327",
   "metadata": {},
   "outputs": [
    {
     "name": "stdout",
     "output_type": "stream",
     "text": [
      "aa: [-1.20596481 -1.66502463 -0.28879729 ...  0.0761994  -0.094214\n",
      " -0.04504064]\n"
     ]
    }
   ],
   "source": [
    "for coef, feat in zip(coe,feature_names):\n",
    "    print(f\"{feat}: {coef}\")"
   ]
  },
  {
   "cell_type": "code",
   "execution_count": 61,
   "id": "e08ca682-732a-4e98-b659-4188b5ba18e7",
   "metadata": {},
   "outputs": [],
   "source": [
    "train_accuracy = model.score(X_vectorizer, Y_train_new)\n",
    "test_accuracy = model.score(X_vectorizer_test, Y_test_new)"
   ]
  },
  {
   "cell_type": "code",
   "execution_count": 62,
   "id": "d16af33c-2781-418e-b067-a2e6d13c1f3f",
   "metadata": {},
   "outputs": [
    {
     "data": {
      "text/plain": [
       "array([1, 1, 0, ..., 1, 0, 1])"
      ]
     },
     "execution_count": 62,
     "metadata": {},
     "output_type": "execute_result"
    }
   ],
   "source": [
    "model.predict(X_vectorizer)"
   ]
  },
  {
   "cell_type": "code",
   "execution_count": null,
   "id": "032c71cc-74d0-4f7f-9f69-a9395780fea8",
   "metadata": {},
   "outputs": [],
   "source": []
  },
  {
   "cell_type": "code",
   "execution_count": 63,
   "id": "e5aab147-b7f5-4918-a4a8-c84504c6139b",
   "metadata": {},
   "outputs": [
    {
     "data": {
      "text/plain": [
       "0.8023240002375736"
      ]
     },
     "execution_count": 63,
     "metadata": {},
     "output_type": "execute_result"
    }
   ],
   "source": [
    "train_accuracy"
   ]
  },
  {
   "cell_type": "code",
   "execution_count": 64,
   "id": "f137ba2b-2dc3-49bf-bfde-8741ce612a8d",
   "metadata": {},
   "outputs": [
    {
     "data": {
      "text/plain": [
       "0.7786752776640273"
      ]
     },
     "execution_count": 64,
     "metadata": {},
     "output_type": "execute_result"
    }
   ],
   "source": [
    "test_accuracy"
   ]
  },
  {
   "cell_type": "code",
   "execution_count": 4,
   "id": "87befea1-693c-4371-99fc-4f49aa883331",
   "metadata": {},
   "outputs": [],
   "source": [
    "import pickle\n"
   ]
  },
  {
   "cell_type": "code",
   "execution_count": 105,
   "id": "160ad18c-4e22-4275-a552-d68db0250fb2",
   "metadata": {},
   "outputs": [],
   "source": [
    "filename='sentiment_analysis_twitter.pkl'\n",
    "pickle.dump((model,vectorizer),open(filename,'wb'))"
   ]
  },
  {
   "cell_type": "code",
   "execution_count": 5,
   "id": "4ecb1025-3695-4eab-8fe7-1fdb0b61f9ba",
   "metadata": {},
   "outputs": [],
   "source": [
    "model_imp,tfidf_vectorizer=pickle.load(open(r'C:\\Users\\nikhi\\all jupyter files/sentiment_analysis_twitter.pkl','rb'))\n"
   ]
  },
  {
   "cell_type": "code",
   "execution_count": 7,
   "id": "e80e4bb5-fe31-4298-a9a8-99a8a5f0c7e5",
   "metadata": {},
   "outputs": [
    {
     "ename": "NameError",
     "evalue": "name 'X_vectorizer' is not defined",
     "output_type": "error",
     "traceback": [
      "\u001b[1;31m---------------------------------------------------------------------------\u001b[0m",
      "\u001b[1;31mNameError\u001b[0m                                 Traceback (most recent call last)",
      "Cell \u001b[1;32mIn[7], line 1\u001b[0m\n\u001b[1;32m----> 1\u001b[0m model_imp\u001b[38;5;241m.\u001b[39mpredict(\u001b[43mX_vectorizer\u001b[49m[\u001b[38;5;241m3003\u001b[39m])\n\u001b[0;32m      2\u001b[0m X_vectorizer[\u001b[38;5;241m3003\u001b[39m]\n",
      "\u001b[1;31mNameError\u001b[0m: name 'X_vectorizer' is not defined"
     ]
    }
   ],
   "source": [
    "model_imp.predict(X_vectorizer[3003])\n",
    "X_vectorizer[3003]"
   ]
  },
  {
   "cell_type": "code",
   "execution_count": 108,
   "id": "57887bf8-e1ef-4654-919e-1824a9ce2b37",
   "metadata": {},
   "outputs": [
    {
     "data": {
      "text/plain": [
       "1"
      ]
     },
     "execution_count": 108,
     "metadata": {},
     "output_type": "execute_result"
    }
   ],
   "source": [
    "Y_train.iloc[3003]"
   ]
  },
  {
   "cell_type": "code",
   "execution_count": 23,
   "id": "556dffee-32b2-4eba-b9e6-bde3429de938",
   "metadata": {},
   "outputs": [],
   "source": [
    "def input_use(tex):\n",
    "    word= stem(tex)\n",
    "    vect= tfidf_vectorizer.transform([word])\n",
    "    print(model_imp.predict(vect))\n",
    "    return model_imp.predict_proba(vect)"
   ]
  },
  {
   "cell_type": "code",
   "execution_count": 26,
   "id": "eba2496c-df15-4c68-a33b-6941a8a9d388",
   "metadata": {},
   "outputs": [
    {
     "name": "stdout",
     "output_type": "stream",
     "text": [
      "[0]\n"
     ]
    }
   ],
   "source": [
    "output=input_use( \"i am good bad boy\")"
   ]
  },
  {
   "cell_type": "code",
   "execution_count": 27,
   "id": "0132b83c-93b7-4afd-b2a5-5ca6c8de1d92",
   "metadata": {},
   "outputs": [
    {
     "data": {
      "text/plain": [
       "[[0.5912212778588448, 0.40877872214115524]]"
      ]
     },
     "execution_count": 27,
     "metadata": {},
     "output_type": "execute_result"
    }
   ],
   "source": [
    "output= output.tolist()\n",
    "output"
   ]
  },
  {
   "cell_type": "code",
   "execution_count": null,
   "id": "e25e4c17-61ce-4eb1-bde1-49850279bcf7",
   "metadata": {},
   "outputs": [],
   "source": []
  },
  {
   "cell_type": "code",
   "execution_count": null,
   "id": "bedc8922-c5e3-4455-a148-71c27d3d2864",
   "metadata": {},
   "outputs": [],
   "source": []
  },
  {
   "cell_type": "code",
   "execution_count": null,
   "id": "e7829d9b-3658-41ca-ac67-f5ff4c89796a",
   "metadata": {},
   "outputs": [],
   "source": []
  },
  {
   "cell_type": "code",
   "execution_count": null,
   "id": "1f9c65dc-09a3-4998-a369-16cbadf2e31e",
   "metadata": {},
   "outputs": [],
   "source": []
  },
  {
   "cell_type": "code",
   "execution_count": null,
   "id": "992676a2-f745-48bf-b7de-a464eff98162",
   "metadata": {},
   "outputs": [],
   "source": []
  },
  {
   "cell_type": "code",
   "execution_count": null,
   "id": "b4df34ac-a557-46ec-b44d-6bb2121b2994",
   "metadata": {},
   "outputs": [],
   "source": []
  },
  {
   "cell_type": "code",
   "execution_count": null,
   "id": "de50141a-0767-426a-a655-67ce35329670",
   "metadata": {},
   "outputs": [],
   "source": []
  },
  {
   "cell_type": "code",
   "execution_count": null,
   "id": "04fe6838-9c96-4f5f-a6bc-e4928f64ce72",
   "metadata": {},
   "outputs": [],
   "source": []
  },
  {
   "cell_type": "code",
   "execution_count": null,
   "id": "bb5a67cb-4e1b-4ca8-9414-fd2f11be881a",
   "metadata": {},
   "outputs": [],
   "source": []
  },
  {
   "cell_type": "code",
   "execution_count": null,
   "id": "eb66a8b4-4258-4187-9131-0dfea062730c",
   "metadata": {},
   "outputs": [],
   "source": []
  },
  {
   "cell_type": "code",
   "execution_count": null,
   "id": "67b1debe-2717-41d4-89e7-ca8db9bf14fd",
   "metadata": {},
   "outputs": [],
   "source": []
  },
  {
   "cell_type": "code",
   "execution_count": null,
   "id": "269d6746-b857-4a3a-8533-e2178101a12e",
   "metadata": {},
   "outputs": [],
   "source": []
  },
  {
   "cell_type": "code",
   "execution_count": 19,
   "id": "2e2fef84-6707-4e15-af70-a3412d1bf150",
   "metadata": {},
   "outputs": [],
   "source": []
  },
  {
   "cell_type": "code",
   "execution_count": 22,
   "id": "668e3ab9-0654-442c-b136-78aa83dacd11",
   "metadata": {},
   "outputs": [],
   "source": []
  },
  {
   "cell_type": "code",
   "execution_count": null,
   "id": "53ce18d2-8028-45e2-9a72-42b72d526a04",
   "metadata": {},
   "outputs": [],
   "source": []
  }
 ],
 "metadata": {
  "kernelspec": {
   "display_name": "Python 3 (ipykernel)",
   "language": "python",
   "name": "python3"
  },
  "language_info": {
   "codemirror_mode": {
    "name": "ipython",
    "version": 3
   },
   "file_extension": ".py",
   "mimetype": "text/x-python",
   "name": "python",
   "nbconvert_exporter": "python",
   "pygments_lexer": "ipython3",
   "version": "3.12.3"
  }
 },
 "nbformat": 4,
 "nbformat_minor": 5
}
